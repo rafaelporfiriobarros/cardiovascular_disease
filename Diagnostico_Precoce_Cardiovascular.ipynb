{
 "cells": [
  {
   "cell_type": "markdown",
   "metadata": {
    "id": "mh9NM0C7Q4OP"
   },
   "source": [
    "# Diagnóstico Precoce de Doenças Cardiovasculares"
   ]
  },
  {
   "cell_type": "markdown",
   "metadata": {
    "id": "fvNA6jKBQ4OR"
   },
   "source": [
    "- Objetivo: Criar uma ferramenta que aumente a precisão do diagnóstico e que essa precisão seja estável para todos os diagnósticos."
   ]
  },
  {
   "cell_type": "markdown",
   "metadata": {
    "id": "dOd3U3PRQ4OS"
   },
   "source": [
    "### PACOTES NECESSÁRIOS"
   ]
  },
  {
   "cell_type": "code",
   "execution_count": 1,
   "metadata": {
    "executionInfo": {
     "elapsed": 766,
     "status": "ok",
     "timestamp": 1639705673636,
     "user": {
      "displayName": "Rafael Porfirio Barros",
      "photoUrl": "https://lh3.googleusercontent.com/a-/AOh14GiI5nar22Zaq0iaph8iQtgKtvIGlYrp0TtN_bFx3Q=s64",
      "userId": "16933589271769188804"
     },
     "user_tz": 180
    },
    "id": "BLsz9yCMQ4OS"
   },
   "outputs": [],
   "source": [
    "import pandas as pd\n",
    "import numpy as np\n",
    "import matplotlib.pyplot as plt\n",
    "import seaborn as sns\n",
    "%matplotlib inline\n",
    "import warnings\n",
    "warnings.filterwarnings('ignore')\n",
    "from scipy.stats import norm\n",
    "from sklearn.model_selection import train_test_split\n",
    "from sklearn.preprocessing import StandardScaler\n",
    "from sklearn.ensemble import RandomForestClassifier\n",
    "from sklearn.metrics import confusion_matrix, classification_report\n",
    "from sklearn.model_selection import cross_val_score\n",
    "from sklearn.svm import SVC\n",
    "from sklearn.neighbors import KNeighborsClassifier\n",
    "from sklearn.naive_bayes import GaussianNB\n",
    "from xgboost import XGBClassifier"
   ]
  },
  {
   "cell_type": "markdown",
   "metadata": {
    "id": "jsaMLaAwQ4OT"
   },
   "source": [
    "### CARREGAMENTO E VISUALIZAÇÃO DO DATASET"
   ]
  },
  {
   "cell_type": "code",
   "execution_count": 2,
   "metadata": {
    "colab": {
     "base_uri": "https://localhost:8080/",
     "height": 206
    },
    "executionInfo": {
     "elapsed": 639,
     "status": "ok",
     "timestamp": 1639705674272,
     "user": {
      "displayName": "Rafael Porfirio Barros",
      "photoUrl": "https://lh3.googleusercontent.com/a-/AOh14GiI5nar22Zaq0iaph8iQtgKtvIGlYrp0TtN_bFx3Q=s64",
      "userId": "16933589271769188804"
     },
     "user_tz": 180
    },
    "id": "ZnMLCddrQ4OU",
    "outputId": "dfd1d541-df11-431a-b961-11ebd5ad2032"
   },
   "outputs": [
    {
     "data": {
      "text/html": [
       "<div>\n",
       "<style scoped>\n",
       "    .dataframe tbody tr th:only-of-type {\n",
       "        vertical-align: middle;\n",
       "    }\n",
       "\n",
       "    .dataframe tbody tr th {\n",
       "        vertical-align: top;\n",
       "    }\n",
       "\n",
       "    .dataframe thead th {\n",
       "        text-align: right;\n",
       "    }\n",
       "</style>\n",
       "<table border=\"1\" class=\"dataframe\">\n",
       "  <thead>\n",
       "    <tr style=\"text-align: right;\">\n",
       "      <th></th>\n",
       "      <th>id</th>\n",
       "      <th>age</th>\n",
       "      <th>gender</th>\n",
       "      <th>height</th>\n",
       "      <th>weight</th>\n",
       "      <th>ap_hi</th>\n",
       "      <th>ap_lo</th>\n",
       "      <th>cholesterol</th>\n",
       "      <th>gluc</th>\n",
       "      <th>smoke</th>\n",
       "      <th>alco</th>\n",
       "      <th>active</th>\n",
       "      <th>cardio</th>\n",
       "    </tr>\n",
       "  </thead>\n",
       "  <tbody>\n",
       "    <tr>\n",
       "      <th>0</th>\n",
       "      <td>0</td>\n",
       "      <td>18393</td>\n",
       "      <td>2</td>\n",
       "      <td>168</td>\n",
       "      <td>62.0</td>\n",
       "      <td>110</td>\n",
       "      <td>80</td>\n",
       "      <td>1</td>\n",
       "      <td>1</td>\n",
       "      <td>0</td>\n",
       "      <td>0</td>\n",
       "      <td>1</td>\n",
       "      <td>0</td>\n",
       "    </tr>\n",
       "    <tr>\n",
       "      <th>1</th>\n",
       "      <td>1</td>\n",
       "      <td>20228</td>\n",
       "      <td>1</td>\n",
       "      <td>156</td>\n",
       "      <td>85.0</td>\n",
       "      <td>140</td>\n",
       "      <td>90</td>\n",
       "      <td>3</td>\n",
       "      <td>1</td>\n",
       "      <td>0</td>\n",
       "      <td>0</td>\n",
       "      <td>1</td>\n",
       "      <td>1</td>\n",
       "    </tr>\n",
       "    <tr>\n",
       "      <th>2</th>\n",
       "      <td>2</td>\n",
       "      <td>18857</td>\n",
       "      <td>1</td>\n",
       "      <td>165</td>\n",
       "      <td>64.0</td>\n",
       "      <td>130</td>\n",
       "      <td>70</td>\n",
       "      <td>3</td>\n",
       "      <td>1</td>\n",
       "      <td>0</td>\n",
       "      <td>0</td>\n",
       "      <td>0</td>\n",
       "      <td>1</td>\n",
       "    </tr>\n",
       "    <tr>\n",
       "      <th>3</th>\n",
       "      <td>3</td>\n",
       "      <td>17623</td>\n",
       "      <td>2</td>\n",
       "      <td>169</td>\n",
       "      <td>82.0</td>\n",
       "      <td>150</td>\n",
       "      <td>100</td>\n",
       "      <td>1</td>\n",
       "      <td>1</td>\n",
       "      <td>0</td>\n",
       "      <td>0</td>\n",
       "      <td>1</td>\n",
       "      <td>1</td>\n",
       "    </tr>\n",
       "    <tr>\n",
       "      <th>4</th>\n",
       "      <td>4</td>\n",
       "      <td>17474</td>\n",
       "      <td>1</td>\n",
       "      <td>156</td>\n",
       "      <td>56.0</td>\n",
       "      <td>100</td>\n",
       "      <td>60</td>\n",
       "      <td>1</td>\n",
       "      <td>1</td>\n",
       "      <td>0</td>\n",
       "      <td>0</td>\n",
       "      <td>0</td>\n",
       "      <td>0</td>\n",
       "    </tr>\n",
       "  </tbody>\n",
       "</table>\n",
       "</div>"
      ],
      "text/plain": [
       "   id    age  gender  height  weight  ap_hi  ap_lo  cholesterol  gluc  smoke  \\\n",
       "0   0  18393       2     168    62.0    110     80            1     1      0   \n",
       "1   1  20228       1     156    85.0    140     90            3     1      0   \n",
       "2   2  18857       1     165    64.0    130     70            3     1      0   \n",
       "3   3  17623       2     169    82.0    150    100            1     1      0   \n",
       "4   4  17474       1     156    56.0    100     60            1     1      0   \n",
       "\n",
       "   alco  active  cardio  \n",
       "0     0       1       0  \n",
       "1     0       1       1  \n",
       "2     0       0       1  \n",
       "3     0       1       1  \n",
       "4     0       0       0  "
      ]
     },
     "execution_count": 2,
     "metadata": {},
     "output_type": "execute_result"
    }
   ],
   "source": [
    "df = pd.read_csv('cardio_train.csv', sep = ';')\n",
    "df.head()"
   ]
  },
  {
   "cell_type": "markdown",
   "metadata": {
    "id": "TX18Sg2dQ4OV"
   },
   "source": [
    "#### Vamos traduzir o nome das colunas para um melhor entendimento:"
   ]
  },
  {
   "cell_type": "code",
   "execution_count": 3,
   "metadata": {
    "colab": {
     "base_uri": "https://localhost:8080/",
     "height": 250
    },
    "executionInfo": {
     "elapsed": 32,
     "status": "ok",
     "timestamp": 1639705674273,
     "user": {
      "displayName": "Rafael Porfirio Barros",
      "photoUrl": "https://lh3.googleusercontent.com/a-/AOh14GiI5nar22Zaq0iaph8iQtgKtvIGlYrp0TtN_bFx3Q=s64",
      "userId": "16933589271769188804"
     },
     "user_tz": 180
    },
    "id": "aSNUlvdmQ4OV",
    "outputId": "332cb559-02ec-462b-a1de-2bdc782c8a3c"
   },
   "outputs": [],
   "source": [
    "df.rename(columns = {'age':'idade', 'gender':'genero','height':'altura','weight':'peso', \n",
    "                     'ap_hi':'sistolica','ap_lo':'diastolica','cholesterol':'colesterol',\n",
    "                     'gluc':'glicose','smoke':'tabagismo','alco':'alcoolismo', \n",
    "                     'active':'atividade_fisica','cardio':'diagnostico_cardiovascular'}, inplace = True)"
   ]
  },
  {
   "cell_type": "markdown",
   "metadata": {
    "id": "nW7rkrH6Q4OW"
   },
   "source": [
    "### ANÁLISE EXPLORATÓRIA DOS DADOS - EDA"
   ]
  },
  {
   "cell_type": "code",
   "execution_count": 4,
   "metadata": {
    "colab": {
     "base_uri": "https://localhost:8080/"
    },
    "executionInfo": {
     "elapsed": 35,
     "status": "ok",
     "timestamp": 1639705674278,
     "user": {
      "displayName": "Rafael Porfirio Barros",
      "photoUrl": "https://lh3.googleusercontent.com/a-/AOh14GiI5nar22Zaq0iaph8iQtgKtvIGlYrp0TtN_bFx3Q=s64",
      "userId": "16933589271769188804"
     },
     "user_tz": 180
    },
    "id": "JZJlRk2oQ4OW",
    "outputId": "a0b0b84d-3b52-405e-fc27-3f3c3cffbe9d"
   },
   "outputs": [
    {
     "name": "stdout",
     "output_type": "stream",
     "text": [
      "##################### Shape #####################\n",
      "(70000, 13)\n",
      "##################### Types #####################\n",
      "id                              int64\n",
      "idade                           int64\n",
      "genero                          int64\n",
      "altura                          int64\n",
      "peso                          float64\n",
      "sistolica                       int64\n",
      "diastolica                      int64\n",
      "colesterol                      int64\n",
      "glicose                         int64\n",
      "tabagismo                       int64\n",
      "alcoolismo                      int64\n",
      "atividade_fisica                int64\n",
      "diagnostico_cardiovascular      int64\n",
      "dtype: object\n",
      "##################### NA #####################\n",
      "id                            0\n",
      "idade                         0\n",
      "genero                        0\n",
      "altura                        0\n",
      "peso                          0\n",
      "sistolica                     0\n",
      "diastolica                    0\n",
      "colesterol                    0\n",
      "glicose                       0\n",
      "tabagismo                     0\n",
      "alcoolismo                    0\n",
      "atividade_fisica              0\n",
      "diagnostico_cardiovascular    0\n",
      "dtype: int64\n"
     ]
    }
   ],
   "source": [
    "def infos(data):\n",
    "    print(\"##################### Shape #####################\")\n",
    "    print(data.shape)\n",
    "    print(\"##################### Types #####################\")\n",
    "    print(data.dtypes)\n",
    "    print(\"##################### NA #####################\")\n",
    "    print(data.isnull().sum())\n",
    "\n",
    "infos(df)"
   ]
  },
  {
   "cell_type": "markdown",
   "metadata": {
    "id": "VhuD7ZlBQ4OX"
   },
   "source": [
    "### É PRECISO MUDAR A COLUNA \"AGE - IDADE\" PARA UM FORMATO CORRETO DE ANOS"
   ]
  },
  {
   "cell_type": "code",
   "execution_count": 5,
   "metadata": {
    "colab": {
     "base_uri": "https://localhost:8080/",
     "height": 250
    },
    "executionInfo": {
     "elapsed": 32,
     "status": "ok",
     "timestamp": 1639705674280,
     "user": {
      "displayName": "Rafael Porfirio Barros",
      "photoUrl": "https://lh3.googleusercontent.com/a-/AOh14GiI5nar22Zaq0iaph8iQtgKtvIGlYrp0TtN_bFx3Q=s64",
      "userId": "16933589271769188804"
     },
     "user_tz": 180
    },
    "id": "UUTVh8Y2Q4OX",
    "outputId": "50b1d0c8-6ddc-4e3d-b638-843a41f95688"
   },
   "outputs": [
    {
     "data": {
      "text/html": [
       "<div>\n",
       "<style scoped>\n",
       "    .dataframe tbody tr th:only-of-type {\n",
       "        vertical-align: middle;\n",
       "    }\n",
       "\n",
       "    .dataframe tbody tr th {\n",
       "        vertical-align: top;\n",
       "    }\n",
       "\n",
       "    .dataframe thead th {\n",
       "        text-align: right;\n",
       "    }\n",
       "</style>\n",
       "<table border=\"1\" class=\"dataframe\">\n",
       "  <thead>\n",
       "    <tr style=\"text-align: right;\">\n",
       "      <th></th>\n",
       "      <th>id</th>\n",
       "      <th>idade</th>\n",
       "      <th>genero</th>\n",
       "      <th>altura</th>\n",
       "      <th>peso</th>\n",
       "      <th>sistolica</th>\n",
       "      <th>diastolica</th>\n",
       "      <th>colesterol</th>\n",
       "      <th>glicose</th>\n",
       "      <th>tabagismo</th>\n",
       "      <th>alcoolismo</th>\n",
       "      <th>atividade_fisica</th>\n",
       "      <th>diagnostico_cardiovascular</th>\n",
       "    </tr>\n",
       "  </thead>\n",
       "  <tbody>\n",
       "    <tr>\n",
       "      <th>0</th>\n",
       "      <td>0</td>\n",
       "      <td>50.0</td>\n",
       "      <td>2</td>\n",
       "      <td>168</td>\n",
       "      <td>62.0</td>\n",
       "      <td>110</td>\n",
       "      <td>80</td>\n",
       "      <td>1</td>\n",
       "      <td>1</td>\n",
       "      <td>0</td>\n",
       "      <td>0</td>\n",
       "      <td>1</td>\n",
       "      <td>0</td>\n",
       "    </tr>\n",
       "    <tr>\n",
       "      <th>1</th>\n",
       "      <td>1</td>\n",
       "      <td>55.0</td>\n",
       "      <td>1</td>\n",
       "      <td>156</td>\n",
       "      <td>85.0</td>\n",
       "      <td>140</td>\n",
       "      <td>90</td>\n",
       "      <td>3</td>\n",
       "      <td>1</td>\n",
       "      <td>0</td>\n",
       "      <td>0</td>\n",
       "      <td>1</td>\n",
       "      <td>1</td>\n",
       "    </tr>\n",
       "    <tr>\n",
       "      <th>2</th>\n",
       "      <td>2</td>\n",
       "      <td>52.0</td>\n",
       "      <td>1</td>\n",
       "      <td>165</td>\n",
       "      <td>64.0</td>\n",
       "      <td>130</td>\n",
       "      <td>70</td>\n",
       "      <td>3</td>\n",
       "      <td>1</td>\n",
       "      <td>0</td>\n",
       "      <td>0</td>\n",
       "      <td>0</td>\n",
       "      <td>1</td>\n",
       "    </tr>\n",
       "    <tr>\n",
       "      <th>3</th>\n",
       "      <td>3</td>\n",
       "      <td>48.0</td>\n",
       "      <td>2</td>\n",
       "      <td>169</td>\n",
       "      <td>82.0</td>\n",
       "      <td>150</td>\n",
       "      <td>100</td>\n",
       "      <td>1</td>\n",
       "      <td>1</td>\n",
       "      <td>0</td>\n",
       "      <td>0</td>\n",
       "      <td>1</td>\n",
       "      <td>1</td>\n",
       "    </tr>\n",
       "    <tr>\n",
       "      <th>4</th>\n",
       "      <td>4</td>\n",
       "      <td>48.0</td>\n",
       "      <td>1</td>\n",
       "      <td>156</td>\n",
       "      <td>56.0</td>\n",
       "      <td>100</td>\n",
       "      <td>60</td>\n",
       "      <td>1</td>\n",
       "      <td>1</td>\n",
       "      <td>0</td>\n",
       "      <td>0</td>\n",
       "      <td>0</td>\n",
       "      <td>0</td>\n",
       "    </tr>\n",
       "  </tbody>\n",
       "</table>\n",
       "</div>"
      ],
      "text/plain": [
       "   id  idade  genero  altura  peso  sistolica  diastolica  colesterol  \\\n",
       "0   0   50.0       2     168  62.0        110          80           1   \n",
       "1   1   55.0       1     156  85.0        140          90           3   \n",
       "2   2   52.0       1     165  64.0        130          70           3   \n",
       "3   3   48.0       2     169  82.0        150         100           1   \n",
       "4   4   48.0       1     156  56.0        100          60           1   \n",
       "\n",
       "   glicose  tabagismo  alcoolismo  atividade_fisica  \\\n",
       "0        1          0           0                 1   \n",
       "1        1          0           0                 1   \n",
       "2        1          0           0                 0   \n",
       "3        1          0           0                 1   \n",
       "4        1          0           0                 0   \n",
       "\n",
       "   diagnostico_cardiovascular  \n",
       "0                           0  \n",
       "1                           1  \n",
       "2                           1  \n",
       "3                           1  \n",
       "4                           0  "
      ]
     },
     "execution_count": 5,
     "metadata": {},
     "output_type": "execute_result"
    }
   ],
   "source": [
    "df['idade'] = round(df['idade'] / 365)\n",
    "df.head()"
   ]
  },
  {
   "cell_type": "code",
   "execution_count": 6,
   "metadata": {
    "colab": {
     "base_uri": "https://localhost:8080/",
     "height": 364
    },
    "executionInfo": {
     "elapsed": 31,
     "status": "ok",
     "timestamp": 1639705674281,
     "user": {
      "displayName": "Rafael Porfirio Barros",
      "photoUrl": "https://lh3.googleusercontent.com/a-/AOh14GiI5nar22Zaq0iaph8iQtgKtvIGlYrp0TtN_bFx3Q=s64",
      "userId": "16933589271769188804"
     },
     "user_tz": 180
    },
    "id": "_wF-dxnaCoRR",
    "outputId": "db910489-f9d3-4d77-f24a-16c6ec1f3968",
    "scrolled": true
   },
   "outputs": [
    {
     "data": {
      "text/html": [
       "<div>\n",
       "<style scoped>\n",
       "    .dataframe tbody tr th:only-of-type {\n",
       "        vertical-align: middle;\n",
       "    }\n",
       "\n",
       "    .dataframe tbody tr th {\n",
       "        vertical-align: top;\n",
       "    }\n",
       "\n",
       "    .dataframe thead th {\n",
       "        text-align: right;\n",
       "    }\n",
       "</style>\n",
       "<table border=\"1\" class=\"dataframe\">\n",
       "  <thead>\n",
       "    <tr style=\"text-align: right;\">\n",
       "      <th></th>\n",
       "      <th>id</th>\n",
       "      <th>idade</th>\n",
       "      <th>genero</th>\n",
       "      <th>altura</th>\n",
       "      <th>peso</th>\n",
       "      <th>sistolica</th>\n",
       "      <th>diastolica</th>\n",
       "      <th>colesterol</th>\n",
       "      <th>glicose</th>\n",
       "      <th>tabagismo</th>\n",
       "      <th>alcoolismo</th>\n",
       "      <th>atividade_fisica</th>\n",
       "      <th>diagnostico_cardiovascular</th>\n",
       "    </tr>\n",
       "  </thead>\n",
       "  <tbody>\n",
       "    <tr>\n",
       "      <th>count</th>\n",
       "      <td>70000.000000</td>\n",
       "      <td>70000.000000</td>\n",
       "      <td>70000.000000</td>\n",
       "      <td>70000.000000</td>\n",
       "      <td>70000.000000</td>\n",
       "      <td>70000.000000</td>\n",
       "      <td>70000.000000</td>\n",
       "      <td>70000.000000</td>\n",
       "      <td>70000.000000</td>\n",
       "      <td>70000.000000</td>\n",
       "      <td>70000.000000</td>\n",
       "      <td>70000.000000</td>\n",
       "      <td>70000.000000</td>\n",
       "    </tr>\n",
       "    <tr>\n",
       "      <th>mean</th>\n",
       "      <td>49972.419900</td>\n",
       "      <td>53.338686</td>\n",
       "      <td>1.349571</td>\n",
       "      <td>164.359229</td>\n",
       "      <td>74.205690</td>\n",
       "      <td>128.817286</td>\n",
       "      <td>96.630414</td>\n",
       "      <td>1.366871</td>\n",
       "      <td>1.226457</td>\n",
       "      <td>0.088129</td>\n",
       "      <td>0.053771</td>\n",
       "      <td>0.803729</td>\n",
       "      <td>0.499700</td>\n",
       "    </tr>\n",
       "    <tr>\n",
       "      <th>std</th>\n",
       "      <td>28851.302323</td>\n",
       "      <td>6.765294</td>\n",
       "      <td>0.476838</td>\n",
       "      <td>8.210126</td>\n",
       "      <td>14.395757</td>\n",
       "      <td>154.011419</td>\n",
       "      <td>188.472530</td>\n",
       "      <td>0.680250</td>\n",
       "      <td>0.572270</td>\n",
       "      <td>0.283484</td>\n",
       "      <td>0.225568</td>\n",
       "      <td>0.397179</td>\n",
       "      <td>0.500003</td>\n",
       "    </tr>\n",
       "    <tr>\n",
       "      <th>min</th>\n",
       "      <td>0.000000</td>\n",
       "      <td>30.000000</td>\n",
       "      <td>1.000000</td>\n",
       "      <td>55.000000</td>\n",
       "      <td>10.000000</td>\n",
       "      <td>-150.000000</td>\n",
       "      <td>-70.000000</td>\n",
       "      <td>1.000000</td>\n",
       "      <td>1.000000</td>\n",
       "      <td>0.000000</td>\n",
       "      <td>0.000000</td>\n",
       "      <td>0.000000</td>\n",
       "      <td>0.000000</td>\n",
       "    </tr>\n",
       "    <tr>\n",
       "      <th>25%</th>\n",
       "      <td>25006.750000</td>\n",
       "      <td>48.000000</td>\n",
       "      <td>1.000000</td>\n",
       "      <td>159.000000</td>\n",
       "      <td>65.000000</td>\n",
       "      <td>120.000000</td>\n",
       "      <td>80.000000</td>\n",
       "      <td>1.000000</td>\n",
       "      <td>1.000000</td>\n",
       "      <td>0.000000</td>\n",
       "      <td>0.000000</td>\n",
       "      <td>1.000000</td>\n",
       "      <td>0.000000</td>\n",
       "    </tr>\n",
       "    <tr>\n",
       "      <th>50%</th>\n",
       "      <td>50001.500000</td>\n",
       "      <td>54.000000</td>\n",
       "      <td>1.000000</td>\n",
       "      <td>165.000000</td>\n",
       "      <td>72.000000</td>\n",
       "      <td>120.000000</td>\n",
       "      <td>80.000000</td>\n",
       "      <td>1.000000</td>\n",
       "      <td>1.000000</td>\n",
       "      <td>0.000000</td>\n",
       "      <td>0.000000</td>\n",
       "      <td>1.000000</td>\n",
       "      <td>0.000000</td>\n",
       "    </tr>\n",
       "    <tr>\n",
       "      <th>75%</th>\n",
       "      <td>74889.250000</td>\n",
       "      <td>58.000000</td>\n",
       "      <td>2.000000</td>\n",
       "      <td>170.000000</td>\n",
       "      <td>82.000000</td>\n",
       "      <td>140.000000</td>\n",
       "      <td>90.000000</td>\n",
       "      <td>2.000000</td>\n",
       "      <td>1.000000</td>\n",
       "      <td>0.000000</td>\n",
       "      <td>0.000000</td>\n",
       "      <td>1.000000</td>\n",
       "      <td>1.000000</td>\n",
       "    </tr>\n",
       "    <tr>\n",
       "      <th>max</th>\n",
       "      <td>99999.000000</td>\n",
       "      <td>65.000000</td>\n",
       "      <td>2.000000</td>\n",
       "      <td>250.000000</td>\n",
       "      <td>200.000000</td>\n",
       "      <td>16020.000000</td>\n",
       "      <td>11000.000000</td>\n",
       "      <td>3.000000</td>\n",
       "      <td>3.000000</td>\n",
       "      <td>1.000000</td>\n",
       "      <td>1.000000</td>\n",
       "      <td>1.000000</td>\n",
       "      <td>1.000000</td>\n",
       "    </tr>\n",
       "  </tbody>\n",
       "</table>\n",
       "</div>"
      ],
      "text/plain": [
       "                 id         idade        genero        altura          peso  \\\n",
       "count  70000.000000  70000.000000  70000.000000  70000.000000  70000.000000   \n",
       "mean   49972.419900     53.338686      1.349571    164.359229     74.205690   \n",
       "std    28851.302323      6.765294      0.476838      8.210126     14.395757   \n",
       "min        0.000000     30.000000      1.000000     55.000000     10.000000   \n",
       "25%    25006.750000     48.000000      1.000000    159.000000     65.000000   \n",
       "50%    50001.500000     54.000000      1.000000    165.000000     72.000000   \n",
       "75%    74889.250000     58.000000      2.000000    170.000000     82.000000   \n",
       "max    99999.000000     65.000000      2.000000    250.000000    200.000000   \n",
       "\n",
       "          sistolica    diastolica    colesterol       glicose     tabagismo  \\\n",
       "count  70000.000000  70000.000000  70000.000000  70000.000000  70000.000000   \n",
       "mean     128.817286     96.630414      1.366871      1.226457      0.088129   \n",
       "std      154.011419    188.472530      0.680250      0.572270      0.283484   \n",
       "min     -150.000000    -70.000000      1.000000      1.000000      0.000000   \n",
       "25%      120.000000     80.000000      1.000000      1.000000      0.000000   \n",
       "50%      120.000000     80.000000      1.000000      1.000000      0.000000   \n",
       "75%      140.000000     90.000000      2.000000      1.000000      0.000000   \n",
       "max    16020.000000  11000.000000      3.000000      3.000000      1.000000   \n",
       "\n",
       "         alcoolismo  atividade_fisica  diagnostico_cardiovascular  \n",
       "count  70000.000000      70000.000000                70000.000000  \n",
       "mean       0.053771          0.803729                    0.499700  \n",
       "std        0.225568          0.397179                    0.500003  \n",
       "min        0.000000          0.000000                    0.000000  \n",
       "25%        0.000000          1.000000                    0.000000  \n",
       "50%        0.000000          1.000000                    0.000000  \n",
       "75%        0.000000          1.000000                    1.000000  \n",
       "max        1.000000          1.000000                    1.000000  "
      ]
     },
     "execution_count": 6,
     "metadata": {},
     "output_type": "execute_result"
    }
   ],
   "source": [
    "df.describe()"
   ]
  },
  {
   "cell_type": "markdown",
   "metadata": {},
   "source": [
    "- ### Podemos notar que na feature altura, temos um valor máximo de 250, ou seja, 2 metros e 50 cm, e na feature peso máximo de 200kg, achei muito estranho, precisamos checar os OUTLIERS no dataset."
   ]
  },
  {
   "cell_type": "markdown",
   "metadata": {},
   "source": [
    "### OUTLIERS"
   ]
  },
  {
   "cell_type": "code",
   "execution_count": 7,
   "metadata": {},
   "outputs": [
    {
     "data": {
      "text/plain": [
       "Text(0.5, 1.0, 'Outlier Altura')"
      ]
     },
     "execution_count": 7,
     "metadata": {},
     "output_type": "execute_result"
    },
    {
     "data": {
      "image/png": "[encoded data removed]",
      "text/plain": [
       "<Figure size 1080x360 with 1 Axes>"
      ]
     },
     "metadata": {
      "needs_background": "light"
     },
     "output_type": "display_data"
    }
   ],
   "source": [
    "plt.figure(figsize =(15, 5))\n",
    "sns.set_theme(style=\"whitegrid\")\n",
    "plt.subplot(1, 2, 1)\n",
    "sns.boxplot(df['altura'])\n",
    "plt.title('Outlier Altura', fontsize = 25)"
   ]
  },
  {
   "cell_type": "code",
   "execution_count": 8,
   "metadata": {},
   "outputs": [
    {
     "data": {
      "text/plain": [
       "Text(0.5, 1.0, 'Outlier Peso')"
      ]
     },
     "execution_count": 8,
     "metadata": {},
     "output_type": "execute_result"
    },
    {
     "data": {
      "image/png": "[encoded data removed]",
      "text/plain": [
       "<Figure size 1080x360 with 1 Axes>"
      ]
     },
     "metadata": {},
     "output_type": "display_data"
    }
   ],
   "source": [
    "plt.figure(figsize =(15, 5))\n",
    "sns.set_theme(style=\"whitegrid\")\n",
    "plt.subplot(1, 2, 1)\n",
    "sns.boxplot(df['peso'])\n",
    "plt.title('Outlier Peso', fontsize = 25)"
   ]
  },
  {
   "cell_type": "code",
   "execution_count": 9,
   "metadata": {},
   "outputs": [
    {
     "data": {
      "text/plain": [
       "Text(0.5, 1.0, 'Outlier Sistólica')"
      ]
     },
     "execution_count": 9,
     "metadata": {},
     "output_type": "execute_result"
    },
    {
     "data": {
      "image/png": "[encoded data removed]",
      "text/plain": [
       "<Figure size 1080x360 with 1 Axes>"
      ]
     },
     "metadata": {},
     "output_type": "display_data"
    }
   ],
   "source": [
    "plt.figure(figsize =(15, 5))\n",
    "sns.set_theme(style=\"whitegrid\")\n",
    "plt.subplot(1, 2, 1)\n",
    "sns.boxplot(df['sistolica'])\n",
    "plt.title('Outlier Sistólica', fontsize = 25)"
   ]
  },
  {
   "cell_type": "code",
   "execution_count": 10,
   "metadata": {},
   "outputs": [
    {
     "data": {
      "text/plain": [
       "Text(0.5, 1.0, 'Outlier Diastólica')"
      ]
     },
     "execution_count": 10,
     "metadata": {},
     "output_type": "execute_result"
    },
    {
     "data": {
      "image/png": "[encoded data removed]",
      "text/plain": [
       "<Figure size 1080x360 with 1 Axes>"
      ]
     },
     "metadata": {},
     "output_type": "display_data"
    }
   ],
   "source": [
    "plt.figure(figsize =(15, 5))\n",
    "sns.set_theme(style=\"whitegrid\")\n",
    "plt.subplot(1, 2, 1)\n",
    "sns.boxplot(df['sistolica'])\n",
    "plt.title('Outlier Diastólica', fontsize = 25)"
   ]
  },
  {
   "cell_type": "markdown",
   "metadata": {},
   "source": [
    "### Identificando Outliers com Z-Score\n",
    "\n",
    "- #### O Z-Score nos dá uma idéia do quanto um determinado ponto está afastado da média dos dados.\n",
    "- #### Mede quantos desvios padrões abaixo ou acima da média populacional ou amostral os dados estão.\n",
    "\n"
   ]
  },
  {
   "cell_type": "code",
   "execution_count": 11,
   "metadata": {},
   "outputs": [
    {
     "name": "stdout",
     "output_type": "stream",
     "text": [
      "[76, 250, 70, 75, 71, 67, 70, 74, 68, 55, 81, 80, 64, 60, 72, 65, 65, 68, 75, 67, 70, 67, 59, 66, 57]\n"
     ]
    }
   ],
   "source": [
    "# EXEMPLO USANDO ALTURA \n",
    "\n",
    "outliers = []\n",
    "\n",
    "def busca_outliers(data):\n",
    "    corte_dp = 9\n",
    "    media = np.mean(data)\n",
    "    dp = np.std(data)\n",
    "    \n",
    "    for dado in data:\n",
    "        z_score = (dado - media) / dp\n",
    "        if np.abs(z_score) >= corte_dp:\n",
    "            outliers.append(dado)\n",
    "    return outliers\n",
    "\n",
    "outliers = busca_outliers(df['altura'])\n",
    "print(outliers)\n",
    "\n",
    "#outliers_df = pd.DataFrame(outliers)\n",
    "#outliers_df"
   ]
  },
  {
   "cell_type": "markdown",
   "metadata": {},
   "source": [
    "### Identificando Outliers com Amplitude Interquartil\n",
    "\n",
    "#### Percentil:\n",
    "\n",
    "- #### percentil 25: primeiro quartil\n",
    "- #### percentil 50: segundo quartil ou mediana\n",
    "- #### percentil 75: terceiro quartil "
   ]
  },
  {
   "cell_type": "code",
   "execution_count": 12,
   "metadata": {},
   "outputs": [
    {
     "name": "stdout",
     "output_type": "stream",
     "text": [
      "Percentil 75:  170.0\n",
      "Percentil 50 (mediana):  165.0\n"
     ]
    }
   ],
   "source": [
    "# EXEMPLO USANDO ALTURA\n",
    "\n",
    "p75, p50 = np.percentile(df['altura'], [75,50])\n",
    "print('Percentil 75: ', p75)\n",
    "print('Percentil 50 (mediana): ', p50)"
   ]
  },
  {
   "cell_type": "markdown",
   "metadata": {},
   "source": [
    "### Amplitude Interquartil \n",
    "\n",
    "- #### Diferença entre o terceiro quartil(Q3) e o primeiro quartil(Q1)\n",
    "\n",
    "#### Como determinar Outlier com AI:\n",
    "\n",
    "- #### Ordena os dados de forma crescente\n",
    "- #### Calcula primeiro e terceiro quartil\n",
    "- #### Determina a Amplitude interquartil\n",
    "- #### Encontre o limite inferior Q1 * 1.5\n",
    "- #### Encontre o limite superior Q3 * 1.5"
   ]
  },
  {
   "cell_type": "code",
   "execution_count": 13,
   "metadata": {},
   "outputs": [],
   "source": [
    "# EXEMPLO USANDO ALTURA, PESO, SISTÓLICA E DIASTÓLICA\n",
    "\n",
    "def AmpInter(data):\n",
    "    Q1, Q3 = np.percentile(data, [25,75])\n",
    "    \n",
    "    print('Primeiro Quartil ou Percentil 25: ', Q1)\n",
    "    print('Terceiro Quartil ou Percentil 75: ', Q3)\n",
    "    \n",
    "    Amp_interquartil = Q3 - Q1\n",
    "    \n",
    "    print('Amplitude Interquartil: ', Amp_interquartil)\n",
    "    \n",
    "    limite_inferior = Q1 - (1.5 * Amp_interquartil)\n",
    "    limite_superior = Q3 + (1.5 * Amp_interquartil)\n",
    "\n",
    "    print('Limite Inferior: ', limite_inferior)\n",
    "    print('Limite Superior: ', limite_superior)"
   ]
  },
  {
   "cell_type": "code",
   "execution_count": 14,
   "metadata": {},
   "outputs": [
    {
     "name": "stdout",
     "output_type": "stream",
     "text": [
      "Primeiro Quartil ou Percentil 25:  159.0\n",
      "Terceiro Quartil ou Percentil 75:  170.0\n",
      "Amplitude Interquartil:  11.0\n",
      "Limite Inferior:  142.5\n",
      "Limite Superior:  186.5\n"
     ]
    }
   ],
   "source": [
    "AmpInter(df.altura)"
   ]
  },
  {
   "cell_type": "code",
   "execution_count": 15,
   "metadata": {},
   "outputs": [
    {
     "name": "stdout",
     "output_type": "stream",
     "text": [
      "Primeiro Quartil ou Percentil 25:  65.0\n",
      "Terceiro Quartil ou Percentil 75:  82.0\n",
      "Amplitude Interquartil:  17.0\n",
      "Limite Inferior:  39.5\n",
      "Limite Superior:  107.5\n"
     ]
    }
   ],
   "source": [
    "AmpInter(df.peso)"
   ]
  },
  {
   "cell_type": "code",
   "execution_count": 16,
   "metadata": {},
   "outputs": [
    {
     "name": "stdout",
     "output_type": "stream",
     "text": [
      "Primeiro Quartil ou Percentil 25:  120.0\n",
      "Terceiro Quartil ou Percentil 75:  140.0\n",
      "Amplitude Interquartil:  20.0\n",
      "Limite Inferior:  90.0\n",
      "Limite Superior:  170.0\n"
     ]
    }
   ],
   "source": [
    "AmpInter(df.sistolica)"
   ]
  },
  {
   "cell_type": "code",
   "execution_count": 17,
   "metadata": {},
   "outputs": [
    {
     "name": "stdout",
     "output_type": "stream",
     "text": [
      "Primeiro Quartil ou Percentil 25:  80.0\n",
      "Terceiro Quartil ou Percentil 75:  90.0\n",
      "Amplitude Interquartil:  10.0\n",
      "Limite Inferior:  65.0\n",
      "Limite Superior:  105.0\n"
     ]
    }
   ],
   "source": [
    "AmpInter(df.diastolica)"
   ]
  },
  {
   "cell_type": "markdown",
   "metadata": {},
   "source": [
    "- ### Vamos filtrar os valores de outliers de cada feature detectada."
   ]
  },
  {
   "cell_type": "code",
   "execution_count": 18,
   "metadata": {},
   "outputs": [
    {
     "data": {
      "text/plain": [
       "198"
      ]
     },
     "execution_count": 18,
     "metadata": {},
     "output_type": "execute_result"
    }
   ],
   "source": [
    "# ALTURA \n",
    "\n",
    "df = df[(df['altura'] > 140) & (df['altura'] < 200)]\n",
    "df.altura.max()"
   ]
  },
  {
   "cell_type": "code",
   "execution_count": 19,
   "metadata": {},
   "outputs": [
    {
     "data": {
      "text/plain": [
       "149.0"
      ]
     },
     "execution_count": 19,
     "metadata": {},
     "output_type": "execute_result"
    }
   ],
   "source": [
    "# PESO\n",
    "\n",
    "df = df[(df['peso'] > 40) & (df['peso'] < 150)]\n",
    "df.peso.max()"
   ]
  },
  {
   "cell_type": "code",
   "execution_count": 20,
   "metadata": {},
   "outputs": [
    {
     "data": {
      "text/plain": [
       "16020"
      ]
     },
     "execution_count": 20,
     "metadata": {},
     "output_type": "execute_result"
    }
   ],
   "source": [
    "# SISTOLICA E DIASTOLICA \n",
    "\n",
    "df = df[((df['sistolica'] >= 220) | (df['sistolica'] <= 90) | (df['diastolica'] >= 150) | (df['diastolica'] <= 65))]\n",
    "df.sistolica.max()"
   ]
  },
  {
   "cell_type": "markdown",
   "metadata": {
    "id": "b0mkhuBwQ4OY"
   },
   "source": [
    "As causas das doenças cardiovasculares estão relacionadas com a predisposição genética e fatores de risco comportamentais, como o sedentarismo, alimentação calórica e gordurosa, colesterol alto, sobrepeso, consumo excessivo de álcool e tabagismo são os principais.\n",
    "\n",
    "#### O que é IMC? \n",
    "\n",
    "IMC significa Índice de Massa Corporal e é um parâmetro utilizado para saber se o peso está de acordo com a altura, o que pode interferir diretamente na saúde e qualidade de vida da pessoa. Assim, a partir do resultado do IMC é possível saber também se a pessoa está dentro do peso ideal e também identificar sobrepeso, obesidade ou desnutrição em crianças, adolescentes, adultos ou idosos.\n",
    "\n",
    "    - Magreza, quando o resultado é menor que 18,5 kg/m2;\n",
    "    - Normal, quando o resultado está entre 18,5 e 24,9 kg/m2;\n",
    "    - Sobrepeso, quando o resultado está entre 24,9 e 30 kg/m2;\n",
    "    - Obesidade, quando o resultado é maior que 30 kg/m2.\n",
    "\n",
    "- IMC = peso / (altura x altura)\n"
   ]
  },
  {
   "cell_type": "markdown",
   "metadata": {},
   "source": [
    "### É preciso criar uma nova coluna IMC com os dados de IMC de cada pessoa (ID)."
   ]
  },
  {
   "cell_type": "code",
   "execution_count": 21,
   "metadata": {
    "colab": {
     "base_uri": "https://localhost:8080/",
     "height": 270
    },
    "executionInfo": {
     "elapsed": 39,
     "status": "ok",
     "timestamp": 1639705674630,
     "user": {
      "displayName": "Rafael Porfirio Barros",
      "photoUrl": "https://lh3.googleusercontent.com/a-/AOh14GiI5nar22Zaq0iaph8iQtgKtvIGlYrp0TtN_bFx3Q=s64",
      "userId": "16933589271769188804"
     },
     "user_tz": 180
    },
    "id": "6TQ_NQeKQ4OY",
    "outputId": "b9850f7f-9359-4934-ef1c-62b67ad0d78c"
   },
   "outputs": [
    {
     "data": {
      "text/html": [
       "<div>\n",
       "<style scoped>\n",
       "    .dataframe tbody tr th:only-of-type {\n",
       "        vertical-align: middle;\n",
       "    }\n",
       "\n",
       "    .dataframe tbody tr th {\n",
       "        vertical-align: top;\n",
       "    }\n",
       "\n",
       "    .dataframe thead th {\n",
       "        text-align: right;\n",
       "    }\n",
       "</style>\n",
       "<table border=\"1\" class=\"dataframe\">\n",
       "  <thead>\n",
       "    <tr style=\"text-align: right;\">\n",
       "      <th></th>\n",
       "      <th>id</th>\n",
       "      <th>idade</th>\n",
       "      <th>genero</th>\n",
       "      <th>altura</th>\n",
       "      <th>peso</th>\n",
       "      <th>sistolica</th>\n",
       "      <th>diastolica</th>\n",
       "      <th>colesterol</th>\n",
       "      <th>glicose</th>\n",
       "      <th>tabagismo</th>\n",
       "      <th>alcoolismo</th>\n",
       "      <th>atividade_fisica</th>\n",
       "      <th>diagnostico_cardiovascular</th>\n",
       "      <th>IMC</th>\n",
       "    </tr>\n",
       "  </thead>\n",
       "  <tbody>\n",
       "    <tr>\n",
       "      <th>4</th>\n",
       "      <td>4</td>\n",
       "      <td>48.0</td>\n",
       "      <td>1</td>\n",
       "      <td>156</td>\n",
       "      <td>56.0</td>\n",
       "      <td>100</td>\n",
       "      <td>60</td>\n",
       "      <td>1</td>\n",
       "      <td>1</td>\n",
       "      <td>0</td>\n",
       "      <td>0</td>\n",
       "      <td>0</td>\n",
       "      <td>0</td>\n",
       "      <td>23.011177</td>\n",
       "    </tr>\n",
       "    <tr>\n",
       "      <th>9</th>\n",
       "      <td>14</td>\n",
       "      <td>54.0</td>\n",
       "      <td>1</td>\n",
       "      <td>164</td>\n",
       "      <td>68.0</td>\n",
       "      <td>110</td>\n",
       "      <td>60</td>\n",
       "      <td>1</td>\n",
       "      <td>1</td>\n",
       "      <td>0</td>\n",
       "      <td>0</td>\n",
       "      <td>0</td>\n",
       "      <td>0</td>\n",
       "      <td>25.282570</td>\n",
       "    </tr>\n",
       "    <tr>\n",
       "      <th>23</th>\n",
       "      <td>33</td>\n",
       "      <td>64.0</td>\n",
       "      <td>2</td>\n",
       "      <td>156</td>\n",
       "      <td>45.0</td>\n",
       "      <td>110</td>\n",
       "      <td>60</td>\n",
       "      <td>1</td>\n",
       "      <td>1</td>\n",
       "      <td>0</td>\n",
       "      <td>0</td>\n",
       "      <td>1</td>\n",
       "      <td>0</td>\n",
       "      <td>18.491124</td>\n",
       "    </tr>\n",
       "    <tr>\n",
       "      <th>43</th>\n",
       "      <td>58</td>\n",
       "      <td>56.0</td>\n",
       "      <td>2</td>\n",
       "      <td>159</td>\n",
       "      <td>63.0</td>\n",
       "      <td>120</td>\n",
       "      <td>60</td>\n",
       "      <td>1</td>\n",
       "      <td>1</td>\n",
       "      <td>0</td>\n",
       "      <td>0</td>\n",
       "      <td>1</td>\n",
       "      <td>1</td>\n",
       "      <td>24.919900</td>\n",
       "    </tr>\n",
       "    <tr>\n",
       "      <th>50</th>\n",
       "      <td>65</td>\n",
       "      <td>50.0</td>\n",
       "      <td>1</td>\n",
       "      <td>160</td>\n",
       "      <td>75.0</td>\n",
       "      <td>100</td>\n",
       "      <td>60</td>\n",
       "      <td>1</td>\n",
       "      <td>1</td>\n",
       "      <td>0</td>\n",
       "      <td>0</td>\n",
       "      <td>0</td>\n",
       "      <td>0</td>\n",
       "      <td>29.296875</td>\n",
       "    </tr>\n",
       "  </tbody>\n",
       "</table>\n",
       "</div>"
      ],
      "text/plain": [
       "    id  idade  genero  altura  peso  sistolica  diastolica  colesterol  \\\n",
       "4    4   48.0       1     156  56.0        100          60           1   \n",
       "9   14   54.0       1     164  68.0        110          60           1   \n",
       "23  33   64.0       2     156  45.0        110          60           1   \n",
       "43  58   56.0       2     159  63.0        120          60           1   \n",
       "50  65   50.0       1     160  75.0        100          60           1   \n",
       "\n",
       "    glicose  tabagismo  alcoolismo  atividade_fisica  \\\n",
       "4         1          0           0                 0   \n",
       "9         1          0           0                 0   \n",
       "23        1          0           0                 1   \n",
       "43        1          0           0                 1   \n",
       "50        1          0           0                 0   \n",
       "\n",
       "    diagnostico_cardiovascular        IMC  \n",
       "4                            0  23.011177  \n",
       "9                            0  25.282570  \n",
       "23                           0  18.491124  \n",
       "43                           1  24.919900  \n",
       "50                           0  29.296875  "
      ]
     },
     "execution_count": 21,
     "metadata": {},
     "output_type": "execute_result"
    }
   ],
   "source": [
    "df['IMC'] = df['peso'] / df['altura'] / df['altura'] * 10000\n",
    "df.head()"
   ]
  },
  {
   "cell_type": "markdown",
   "metadata": {
    "id": "wCQDLi9lQ4OY"
   },
   "source": [
    "###  É preciso criar uma nova coluna com as divisões do IMC: Magresa, Normal, Sobrepeso, Obesidade e Obesidade Mórbida"
   ]
  },
  {
   "cell_type": "code",
   "execution_count": 22,
   "metadata": {
    "colab": {
     "base_uri": "https://localhost:8080/",
     "height": 270
    },
    "executionInfo": {
     "elapsed": 13,
     "status": "ok",
     "timestamp": 1639705674632,
     "user": {
      "displayName": "Rafael Porfirio Barros",
      "photoUrl": "https://lh3.googleusercontent.com/a-/AOh14GiI5nar22Zaq0iaph8iQtgKtvIGlYrp0TtN_bFx3Q=s64",
      "userId": "16933589271769188804"
     },
     "user_tz": 180
    },
    "id": "qDyaM9_KQ4OZ",
    "outputId": "492019bb-9db9-491d-e3f2-1bfc91fc4175"
   },
   "outputs": [
    {
     "data": {
      "text/html": [
       "<div>\n",
       "<style scoped>\n",
       "    .dataframe tbody tr th:only-of-type {\n",
       "        vertical-align: middle;\n",
       "    }\n",
       "\n",
       "    .dataframe tbody tr th {\n",
       "        vertical-align: top;\n",
       "    }\n",
       "\n",
       "    .dataframe thead th {\n",
       "        text-align: right;\n",
       "    }\n",
       "</style>\n",
       "<table border=\"1\" class=\"dataframe\">\n",
       "  <thead>\n",
       "    <tr style=\"text-align: right;\">\n",
       "      <th></th>\n",
       "      <th>id</th>\n",
       "      <th>idade</th>\n",
       "      <th>genero</th>\n",
       "      <th>altura</th>\n",
       "      <th>peso</th>\n",
       "      <th>sistolica</th>\n",
       "      <th>diastolica</th>\n",
       "      <th>colesterol</th>\n",
       "      <th>glicose</th>\n",
       "      <th>tabagismo</th>\n",
       "      <th>alcoolismo</th>\n",
       "      <th>atividade_fisica</th>\n",
       "      <th>diagnostico_cardiovascular</th>\n",
       "      <th>IMC</th>\n",
       "      <th>status_IMC</th>\n",
       "    </tr>\n",
       "  </thead>\n",
       "  <tbody>\n",
       "    <tr>\n",
       "      <th>4</th>\n",
       "      <td>4</td>\n",
       "      <td>48.0</td>\n",
       "      <td>1</td>\n",
       "      <td>156</td>\n",
       "      <td>56.0</td>\n",
       "      <td>100</td>\n",
       "      <td>60</td>\n",
       "      <td>1</td>\n",
       "      <td>1</td>\n",
       "      <td>0</td>\n",
       "      <td>0</td>\n",
       "      <td>0</td>\n",
       "      <td>0</td>\n",
       "      <td>23.011177</td>\n",
       "      <td>2</td>\n",
       "    </tr>\n",
       "    <tr>\n",
       "      <th>9</th>\n",
       "      <td>14</td>\n",
       "      <td>54.0</td>\n",
       "      <td>1</td>\n",
       "      <td>164</td>\n",
       "      <td>68.0</td>\n",
       "      <td>110</td>\n",
       "      <td>60</td>\n",
       "      <td>1</td>\n",
       "      <td>1</td>\n",
       "      <td>0</td>\n",
       "      <td>0</td>\n",
       "      <td>0</td>\n",
       "      <td>0</td>\n",
       "      <td>25.282570</td>\n",
       "      <td>3</td>\n",
       "    </tr>\n",
       "    <tr>\n",
       "      <th>23</th>\n",
       "      <td>33</td>\n",
       "      <td>64.0</td>\n",
       "      <td>2</td>\n",
       "      <td>156</td>\n",
       "      <td>45.0</td>\n",
       "      <td>110</td>\n",
       "      <td>60</td>\n",
       "      <td>1</td>\n",
       "      <td>1</td>\n",
       "      <td>0</td>\n",
       "      <td>0</td>\n",
       "      <td>1</td>\n",
       "      <td>0</td>\n",
       "      <td>18.491124</td>\n",
       "      <td>1</td>\n",
       "    </tr>\n",
       "    <tr>\n",
       "      <th>43</th>\n",
       "      <td>58</td>\n",
       "      <td>56.0</td>\n",
       "      <td>2</td>\n",
       "      <td>159</td>\n",
       "      <td>63.0</td>\n",
       "      <td>120</td>\n",
       "      <td>60</td>\n",
       "      <td>1</td>\n",
       "      <td>1</td>\n",
       "      <td>0</td>\n",
       "      <td>0</td>\n",
       "      <td>1</td>\n",
       "      <td>1</td>\n",
       "      <td>24.919900</td>\n",
       "      <td>3</td>\n",
       "    </tr>\n",
       "    <tr>\n",
       "      <th>50</th>\n",
       "      <td>65</td>\n",
       "      <td>50.0</td>\n",
       "      <td>1</td>\n",
       "      <td>160</td>\n",
       "      <td>75.0</td>\n",
       "      <td>100</td>\n",
       "      <td>60</td>\n",
       "      <td>1</td>\n",
       "      <td>1</td>\n",
       "      <td>0</td>\n",
       "      <td>0</td>\n",
       "      <td>0</td>\n",
       "      <td>0</td>\n",
       "      <td>29.296875</td>\n",
       "      <td>3</td>\n",
       "    </tr>\n",
       "  </tbody>\n",
       "</table>\n",
       "</div>"
      ],
      "text/plain": [
       "    id  idade  genero  altura  peso  sistolica  diastolica  colesterol  \\\n",
       "4    4   48.0       1     156  56.0        100          60           1   \n",
       "9   14   54.0       1     164  68.0        110          60           1   \n",
       "23  33   64.0       2     156  45.0        110          60           1   \n",
       "43  58   56.0       2     159  63.0        120          60           1   \n",
       "50  65   50.0       1     160  75.0        100          60           1   \n",
       "\n",
       "    glicose  tabagismo  alcoolismo  atividade_fisica  \\\n",
       "4         1          0           0                 0   \n",
       "9         1          0           0                 0   \n",
       "23        1          0           0                 1   \n",
       "43        1          0           0                 1   \n",
       "50        1          0           0                 0   \n",
       "\n",
       "    diagnostico_cardiovascular        IMC status_IMC  \n",
       "4                            0  23.011177          2  \n",
       "9                            0  25.282570          3  \n",
       "23                           0  18.491124          1  \n",
       "43                           1  24.919900          3  \n",
       "50                           0  29.296875          3  "
      ]
     },
     "execution_count": 22,
     "metadata": {},
     "output_type": "execute_result"
    }
   ],
   "source": [
    "df['status_IMC'] = df['IMC'].apply(lambda x: '1' if x <= 18.5\n",
    "                                  else '2' if (x > 18.5) & (x < 24.9)\n",
    "                                  else '3' if (x > 24.9) & (x < 29.9)\n",
    "                                  else '4' if (x >= 30) & (x <= 34.9)\n",
    "                                  else '5')\n",
    "df.head()"
   ]
  },
  {
   "cell_type": "code",
   "execution_count": 23,
   "metadata": {},
   "outputs": [
    {
     "data": {
      "image/png": "[encoded data removed]",
      "text/plain": [
       "<Figure size 576x288 with 1 Axes>"
      ]
     },
     "metadata": {},
     "output_type": "display_data"
    }
   ],
   "source": [
    "plt.figure(figsize=(8,4))\n",
    "sns.distplot(df['IMC'], bins=50, kde=True)\n",
    "plt.show()"
   ]
  },
  {
   "cell_type": "markdown",
   "metadata": {},
   "source": [
    "### Removendo Peso e Altura do dataframe"
   ]
  },
  {
   "cell_type": "code",
   "execution_count": 24,
   "metadata": {},
   "outputs": [
    {
     "data": {
      "text/html": [
       "<div>\n",
       "<style scoped>\n",
       "    .dataframe tbody tr th:only-of-type {\n",
       "        vertical-align: middle;\n",
       "    }\n",
       "\n",
       "    .dataframe tbody tr th {\n",
       "        vertical-align: top;\n",
       "    }\n",
       "\n",
       "    .dataframe thead th {\n",
       "        text-align: right;\n",
       "    }\n",
       "</style>\n",
       "<table border=\"1\" class=\"dataframe\">\n",
       "  <thead>\n",
       "    <tr style=\"text-align: right;\">\n",
       "      <th></th>\n",
       "      <th>id</th>\n",
       "      <th>idade</th>\n",
       "      <th>genero</th>\n",
       "      <th>sistolica</th>\n",
       "      <th>diastolica</th>\n",
       "      <th>colesterol</th>\n",
       "      <th>glicose</th>\n",
       "      <th>tabagismo</th>\n",
       "      <th>alcoolismo</th>\n",
       "      <th>atividade_fisica</th>\n",
       "      <th>diagnostico_cardiovascular</th>\n",
       "      <th>IMC</th>\n",
       "      <th>status_IMC</th>\n",
       "    </tr>\n",
       "  </thead>\n",
       "  <tbody>\n",
       "    <tr>\n",
       "      <th>4</th>\n",
       "      <td>4</td>\n",
       "      <td>48.0</td>\n",
       "      <td>1</td>\n",
       "      <td>100</td>\n",
       "      <td>60</td>\n",
       "      <td>1</td>\n",
       "      <td>1</td>\n",
       "      <td>0</td>\n",
       "      <td>0</td>\n",
       "      <td>0</td>\n",
       "      <td>0</td>\n",
       "      <td>23.011177</td>\n",
       "      <td>2</td>\n",
       "    </tr>\n",
       "    <tr>\n",
       "      <th>9</th>\n",
       "      <td>14</td>\n",
       "      <td>54.0</td>\n",
       "      <td>1</td>\n",
       "      <td>110</td>\n",
       "      <td>60</td>\n",
       "      <td>1</td>\n",
       "      <td>1</td>\n",
       "      <td>0</td>\n",
       "      <td>0</td>\n",
       "      <td>0</td>\n",
       "      <td>0</td>\n",
       "      <td>25.282570</td>\n",
       "      <td>3</td>\n",
       "    </tr>\n",
       "    <tr>\n",
       "      <th>23</th>\n",
       "      <td>33</td>\n",
       "      <td>64.0</td>\n",
       "      <td>2</td>\n",
       "      <td>110</td>\n",
       "      <td>60</td>\n",
       "      <td>1</td>\n",
       "      <td>1</td>\n",
       "      <td>0</td>\n",
       "      <td>0</td>\n",
       "      <td>1</td>\n",
       "      <td>0</td>\n",
       "      <td>18.491124</td>\n",
       "      <td>1</td>\n",
       "    </tr>\n",
       "    <tr>\n",
       "      <th>43</th>\n",
       "      <td>58</td>\n",
       "      <td>56.0</td>\n",
       "      <td>2</td>\n",
       "      <td>120</td>\n",
       "      <td>60</td>\n",
       "      <td>1</td>\n",
       "      <td>1</td>\n",
       "      <td>0</td>\n",
       "      <td>0</td>\n",
       "      <td>1</td>\n",
       "      <td>1</td>\n",
       "      <td>24.919900</td>\n",
       "      <td>3</td>\n",
       "    </tr>\n",
       "    <tr>\n",
       "      <th>50</th>\n",
       "      <td>65</td>\n",
       "      <td>50.0</td>\n",
       "      <td>1</td>\n",
       "      <td>100</td>\n",
       "      <td>60</td>\n",
       "      <td>1</td>\n",
       "      <td>1</td>\n",
       "      <td>0</td>\n",
       "      <td>0</td>\n",
       "      <td>0</td>\n",
       "      <td>0</td>\n",
       "      <td>29.296875</td>\n",
       "      <td>3</td>\n",
       "    </tr>\n",
       "  </tbody>\n",
       "</table>\n",
       "</div>"
      ],
      "text/plain": [
       "    id  idade  genero  sistolica  diastolica  colesterol  glicose  tabagismo  \\\n",
       "4    4   48.0       1        100          60           1        1          0   \n",
       "9   14   54.0       1        110          60           1        1          0   \n",
       "23  33   64.0       2        110          60           1        1          0   \n",
       "43  58   56.0       2        120          60           1        1          0   \n",
       "50  65   50.0       1        100          60           1        1          0   \n",
       "\n",
       "    alcoolismo  atividade_fisica  diagnostico_cardiovascular        IMC  \\\n",
       "4            0                 0                           0  23.011177   \n",
       "9            0                 0                           0  25.282570   \n",
       "23           0                 1                           0  18.491124   \n",
       "43           0                 1                           1  24.919900   \n",
       "50           0                 0                           0  29.296875   \n",
       "\n",
       "   status_IMC  \n",
       "4           2  \n",
       "9           3  \n",
       "23          1  \n",
       "43          3  \n",
       "50          3  "
      ]
     },
     "execution_count": 24,
     "metadata": {},
     "output_type": "execute_result"
    }
   ],
   "source": [
    "df1 = df.drop(['peso','altura'], axis = 1)\n",
    "df1.head()"
   ]
  },
  {
   "cell_type": "markdown",
   "metadata": {
    "id": "xdtP8et7Q4OZ"
   },
   "source": [
    "#### Pressão Arterial - Hipertensão\n",
    "\n",
    "A hipertensão é uma doença silenciosa, que em geral só causa sintomas quando está instalada há muito tempo e já comprometeu o funcionamento de vários órgãos. É responsável pelo aumento do risco de AVC e ataques cardíacos, entre outras doenças, além de poder lesar os rins, a retina e as artérias periféricas e levar à insuficiência renal, à perda da visão e a amputações de membros, respectivamente.\n",
    "\n",
    "As causas da pressão alta são múltiplas: obesidade, genética, sedentarismo, estresse, influência do meio ambiente e do tipo de alimentação etc.\n",
    "\n",
    "Para controlar a pressão, é importante medi-la com frequência (saiba como fazê-lo corretamente aqui). Muita gente já está familiarizada com o clássico 12 por 8, considerada a medida normal para pressão arterial. Pessoas com hipertensão e que possuem aparelho para medir a pressão em casa podem ficar em dúvida caso seus resultados saiam com números um pouco diferentes dessa marca, tanto para cima como para baixo.\n",
    "\n",
    "- Normal -> Sistólica menor que 120 e diastólica menor que 80\n",
    "- Elevada -> Sistólica entre 120-129 e diastólica menor que 80\n",
    "- Pressão alta -> sistólica entre 130-139 e diastólica entre 80-89\n",
    "- Hipertensão -> Sistólica acima de 140 e diastólica igual ou acima de 90.\n"
   ]
  },
  {
   "cell_type": "markdown",
   "metadata": {
    "id": "zhje8JGmQ4OZ"
   },
   "source": [
    "### É preciso criar uma nova coluna com as divisões da Pressão Arterial - Hipertensão"
   ]
  },
  {
   "cell_type": "code",
   "execution_count": 25,
   "metadata": {
    "colab": {
     "base_uri": "https://localhost:8080/",
     "height": 427
    },
    "executionInfo": {
     "elapsed": 1941,
     "status": "ok",
     "timestamp": 1639705676562,
     "user": {
      "displayName": "Rafael Porfirio Barros",
      "photoUrl": "https://lh3.googleusercontent.com/a-/AOh14GiI5nar22Zaq0iaph8iQtgKtvIGlYrp0TtN_bFx3Q=s64",
      "userId": "16933589271769188804"
     },
     "user_tz": 180
    },
    "id": "mdXFkZClQ4Oa",
    "outputId": "af74ae60-dc4a-4b0b-9d74-22bcb9f43b4f"
   },
   "outputs": [
    {
     "data": {
      "text/html": [
       "<div>\n",
       "<style scoped>\n",
       "    .dataframe tbody tr th:only-of-type {\n",
       "        vertical-align: middle;\n",
       "    }\n",
       "\n",
       "    .dataframe tbody tr th {\n",
       "        vertical-align: top;\n",
       "    }\n",
       "\n",
       "    .dataframe thead th {\n",
       "        text-align: right;\n",
       "    }\n",
       "</style>\n",
       "<table border=\"1\" class=\"dataframe\">\n",
       "  <thead>\n",
       "    <tr style=\"text-align: right;\">\n",
       "      <th></th>\n",
       "      <th>id</th>\n",
       "      <th>idade</th>\n",
       "      <th>genero</th>\n",
       "      <th>sistolica</th>\n",
       "      <th>diastolica</th>\n",
       "      <th>colesterol</th>\n",
       "      <th>glicose</th>\n",
       "      <th>tabagismo</th>\n",
       "      <th>alcoolismo</th>\n",
       "      <th>atividade_fisica</th>\n",
       "      <th>diagnostico_cardiovascular</th>\n",
       "      <th>IMC</th>\n",
       "      <th>status_IMC</th>\n",
       "      <th>pressao_arterial</th>\n",
       "    </tr>\n",
       "  </thead>\n",
       "  <tbody>\n",
       "    <tr>\n",
       "      <th>4</th>\n",
       "      <td>4</td>\n",
       "      <td>48.0</td>\n",
       "      <td>1</td>\n",
       "      <td>100</td>\n",
       "      <td>60</td>\n",
       "      <td>1</td>\n",
       "      <td>1</td>\n",
       "      <td>0</td>\n",
       "      <td>0</td>\n",
       "      <td>0</td>\n",
       "      <td>0</td>\n",
       "      <td>23.011177</td>\n",
       "      <td>2</td>\n",
       "      <td>1</td>\n",
       "    </tr>\n",
       "    <tr>\n",
       "      <th>9</th>\n",
       "      <td>14</td>\n",
       "      <td>54.0</td>\n",
       "      <td>1</td>\n",
       "      <td>110</td>\n",
       "      <td>60</td>\n",
       "      <td>1</td>\n",
       "      <td>1</td>\n",
       "      <td>0</td>\n",
       "      <td>0</td>\n",
       "      <td>0</td>\n",
       "      <td>0</td>\n",
       "      <td>25.282570</td>\n",
       "      <td>3</td>\n",
       "      <td>1</td>\n",
       "    </tr>\n",
       "    <tr>\n",
       "      <th>23</th>\n",
       "      <td>33</td>\n",
       "      <td>64.0</td>\n",
       "      <td>2</td>\n",
       "      <td>110</td>\n",
       "      <td>60</td>\n",
       "      <td>1</td>\n",
       "      <td>1</td>\n",
       "      <td>0</td>\n",
       "      <td>0</td>\n",
       "      <td>1</td>\n",
       "      <td>0</td>\n",
       "      <td>18.491124</td>\n",
       "      <td>1</td>\n",
       "      <td>1</td>\n",
       "    </tr>\n",
       "    <tr>\n",
       "      <th>43</th>\n",
       "      <td>58</td>\n",
       "      <td>56.0</td>\n",
       "      <td>2</td>\n",
       "      <td>120</td>\n",
       "      <td>60</td>\n",
       "      <td>1</td>\n",
       "      <td>1</td>\n",
       "      <td>0</td>\n",
       "      <td>0</td>\n",
       "      <td>1</td>\n",
       "      <td>1</td>\n",
       "      <td>24.919900</td>\n",
       "      <td>3</td>\n",
       "      <td>1</td>\n",
       "    </tr>\n",
       "    <tr>\n",
       "      <th>50</th>\n",
       "      <td>65</td>\n",
       "      <td>50.0</td>\n",
       "      <td>1</td>\n",
       "      <td>100</td>\n",
       "      <td>60</td>\n",
       "      <td>1</td>\n",
       "      <td>1</td>\n",
       "      <td>0</td>\n",
       "      <td>0</td>\n",
       "      <td>0</td>\n",
       "      <td>0</td>\n",
       "      <td>29.296875</td>\n",
       "      <td>3</td>\n",
       "      <td>1</td>\n",
       "    </tr>\n",
       "    <tr>\n",
       "      <th>56</th>\n",
       "      <td>71</td>\n",
       "      <td>48.0</td>\n",
       "      <td>1</td>\n",
       "      <td>90</td>\n",
       "      <td>60</td>\n",
       "      <td>1</td>\n",
       "      <td>2</td>\n",
       "      <td>0</td>\n",
       "      <td>0</td>\n",
       "      <td>1</td>\n",
       "      <td>0</td>\n",
       "      <td>25.990903</td>\n",
       "      <td>3</td>\n",
       "      <td>1</td>\n",
       "    </tr>\n",
       "    <tr>\n",
       "      <th>85</th>\n",
       "      <td>116</td>\n",
       "      <td>50.0</td>\n",
       "      <td>1</td>\n",
       "      <td>100</td>\n",
       "      <td>60</td>\n",
       "      <td>1</td>\n",
       "      <td>1</td>\n",
       "      <td>0</td>\n",
       "      <td>0</td>\n",
       "      <td>1</td>\n",
       "      <td>0</td>\n",
       "      <td>22.600263</td>\n",
       "      <td>2</td>\n",
       "      <td>1</td>\n",
       "    </tr>\n",
       "    <tr>\n",
       "      <th>113</th>\n",
       "      <td>149</td>\n",
       "      <td>52.0</td>\n",
       "      <td>1</td>\n",
       "      <td>125</td>\n",
       "      <td>65</td>\n",
       "      <td>1</td>\n",
       "      <td>2</td>\n",
       "      <td>0</td>\n",
       "      <td>0</td>\n",
       "      <td>1</td>\n",
       "      <td>1</td>\n",
       "      <td>32.049982</td>\n",
       "      <td>4</td>\n",
       "      <td>2</td>\n",
       "    </tr>\n",
       "    <tr>\n",
       "      <th>151</th>\n",
       "      <td>204</td>\n",
       "      <td>59.0</td>\n",
       "      <td>1</td>\n",
       "      <td>120</td>\n",
       "      <td>60</td>\n",
       "      <td>1</td>\n",
       "      <td>1</td>\n",
       "      <td>0</td>\n",
       "      <td>0</td>\n",
       "      <td>1</td>\n",
       "      <td>1</td>\n",
       "      <td>26.171875</td>\n",
       "      <td>3</td>\n",
       "      <td>1</td>\n",
       "    </tr>\n",
       "    <tr>\n",
       "      <th>176</th>\n",
       "      <td>239</td>\n",
       "      <td>46.0</td>\n",
       "      <td>1</td>\n",
       "      <td>120</td>\n",
       "      <td>63</td>\n",
       "      <td>1</td>\n",
       "      <td>1</td>\n",
       "      <td>0</td>\n",
       "      <td>0</td>\n",
       "      <td>1</td>\n",
       "      <td>0</td>\n",
       "      <td>25.854639</td>\n",
       "      <td>3</td>\n",
       "      <td>1</td>\n",
       "    </tr>\n",
       "  </tbody>\n",
       "</table>\n",
       "</div>"
      ],
      "text/plain": [
       "      id  idade  genero  sistolica  diastolica  colesterol  glicose  \\\n",
       "4      4   48.0       1        100          60           1        1   \n",
       "9     14   54.0       1        110          60           1        1   \n",
       "23    33   64.0       2        110          60           1        1   \n",
       "43    58   56.0       2        120          60           1        1   \n",
       "50    65   50.0       1        100          60           1        1   \n",
       "56    71   48.0       1         90          60           1        2   \n",
       "85   116   50.0       1        100          60           1        1   \n",
       "113  149   52.0       1        125          65           1        2   \n",
       "151  204   59.0       1        120          60           1        1   \n",
       "176  239   46.0       1        120          63           1        1   \n",
       "\n",
       "     tabagismo  alcoolismo  atividade_fisica  diagnostico_cardiovascular  \\\n",
       "4            0           0                 0                           0   \n",
       "9            0           0                 0                           0   \n",
       "23           0           0                 1                           0   \n",
       "43           0           0                 1                           1   \n",
       "50           0           0                 0                           0   \n",
       "56           0           0                 1                           0   \n",
       "85           0           0                 1                           0   \n",
       "113          0           0                 1                           1   \n",
       "151          0           0                 1                           1   \n",
       "176          0           0                 1                           0   \n",
       "\n",
       "           IMC status_IMC pressao_arterial  \n",
       "4    23.011177          2                1  \n",
       "9    25.282570          3                1  \n",
       "23   18.491124          1                1  \n",
       "43   24.919900          3                1  \n",
       "50   29.296875          3                1  \n",
       "56   25.990903          3                1  \n",
       "85   22.600263          2                1  \n",
       "113  32.049982          4                2  \n",
       "151  26.171875          3                1  \n",
       "176  25.854639          3                1  "
      ]
     },
     "execution_count": 25,
     "metadata": {},
     "output_type": "execute_result"
    }
   ],
   "source": [
    "df1['pressao_arterial'] = df1.apply(lambda x:'1' if (x['sistolica'] <= 120) & (x['diastolica'] <= 80)\n",
    "                                 else '2' if (x['sistolica'] > 120 and x['sistolica'] <= 129) & (x['diastolica'] <= 80)\n",
    "                                 else \"3\" if (x['sistolica'] >= 130 and x['sistolica'] <= 139) & (x['diastolica'] <= 90)\n",
    "                                 else '4', axis = 1)\n",
    "df1.head(10)"
   ]
  },
  {
   "cell_type": "markdown",
   "metadata": {
    "id": "-iuO-UyrQ4Oa"
   },
   "source": [
    "- ### Analisando os dados agora, vemos algo estranho, existem pessoas que são magras, mas são hipertensas, e pessoas que são normais, mas possuem pressão alta, vamos comparar esses dados com os diagnósticos cardiovasculares."
   ]
  },
  {
   "cell_type": "code",
   "execution_count": 26,
   "metadata": {
    "colab": {
     "base_uri": "https://localhost:8080/"
    },
    "executionInfo": {
     "elapsed": 37,
     "status": "ok",
     "timestamp": 1639705676564,
     "user": {
      "displayName": "Rafael Porfirio Barros",
      "photoUrl": "https://lh3.googleusercontent.com/a-/AOh14GiI5nar22Zaq0iaph8iQtgKtvIGlYrp0TtN_bFx3Q=s64",
      "userId": "16933589271769188804"
     },
     "user_tz": 180
    },
    "id": "u6QqPABDQ4Oa",
    "outputId": "51c7db82-3f71-4d97-aea6-2e3b0e082926"
   },
   "outputs": [
    {
     "data": {
      "text/plain": [
       "Series([], dtype: int64)"
      ]
     },
     "execution_count": 26,
     "metadata": {},
     "output_type": "execute_result"
    }
   ],
   "source": [
    "# PESSOAS MAGRAS E PRESSAO ARTERIAL NORMAL\n",
    "\n",
    "imc1_pa1 = df1[(df1['status_IMC'] == 'Magreza') & (df1['pressao_arterial'] == 'Normal')]\n",
    "imc1_pa1.value_counts('diagnostico_cardiovascular')\n"
   ]
  },
  {
   "cell_type": "code",
   "execution_count": 27,
   "metadata": {
    "colab": {
     "base_uri": "https://localhost:8080/"
    },
    "executionInfo": {
     "elapsed": 33,
     "status": "ok",
     "timestamp": 1639705676565,
     "user": {
      "displayName": "Rafael Porfirio Barros",
      "photoUrl": "https://lh3.googleusercontent.com/a-/AOh14GiI5nar22Zaq0iaph8iQtgKtvIGlYrp0TtN_bFx3Q=s64",
      "userId": "16933589271769188804"
     },
     "user_tz": 180
    },
    "id": "8J7oeQ9yQ4Oa",
    "outputId": "b1bebcc5-599b-4fbd-ad77-8e0c9713c5ff"
   },
   "outputs": [
    {
     "data": {
      "text/plain": [
       "Series([], dtype: int64)"
      ]
     },
     "execution_count": 27,
     "metadata": {},
     "output_type": "execute_result"
    }
   ],
   "source": [
    "# PESSOAS MAGRAS E PRESSAO ARTERIAL ELEVADA\n",
    "\n",
    "imc2_pa2 = df1[(df1['status_IMC'] == 'Magreza') & (df1['pressao_arterial'] == 'Elevada')]\n",
    "imc2_pa2.value_counts('diagnostico_cardiovascular')"
   ]
  },
  {
   "cell_type": "code",
   "execution_count": 28,
   "metadata": {
    "colab": {
     "base_uri": "https://localhost:8080/"
    },
    "executionInfo": {
     "elapsed": 31,
     "status": "ok",
     "timestamp": 1639705676568,
     "user": {
      "displayName": "Rafael Porfirio Barros",
      "photoUrl": "https://lh3.googleusercontent.com/a-/AOh14GiI5nar22Zaq0iaph8iQtgKtvIGlYrp0TtN_bFx3Q=s64",
      "userId": "16933589271769188804"
     },
     "user_tz": 180
    },
    "id": "F5H2CgosQ4Ob",
    "outputId": "eb85b807-8479-4243-8200-39af42da62cb"
   },
   "outputs": [
    {
     "data": {
      "text/plain": [
       "Series([], dtype: int64)"
      ]
     },
     "execution_count": 28,
     "metadata": {},
     "output_type": "execute_result"
    }
   ],
   "source": [
    "# PESSOAS MAGRAS E PRESSAO ARTERIAL ALTA\n",
    "\n",
    "imc3_pa3 = df1[(df1['status_IMC'] == 'Magreza') & (df1['pressao_arterial'] == 'Pressao_Alta')]\n",
    "imc3_pa3.value_counts('diagnostico_cardiovascular')"
   ]
  },
  {
   "cell_type": "code",
   "execution_count": 29,
   "metadata": {
    "colab": {
     "base_uri": "https://localhost:8080/"
    },
    "executionInfo": {
     "elapsed": 28,
     "status": "ok",
     "timestamp": 1639705676569,
     "user": {
      "displayName": "Rafael Porfirio Barros",
      "photoUrl": "https://lh3.googleusercontent.com/a-/AOh14GiI5nar22Zaq0iaph8iQtgKtvIGlYrp0TtN_bFx3Q=s64",
      "userId": "16933589271769188804"
     },
     "user_tz": 180
    },
    "id": "yuHWhQEYQ4Ob",
    "outputId": "01ab887c-d943-42db-c02e-114f50f89ce4"
   },
   "outputs": [
    {
     "data": {
      "text/plain": [
       "Series([], dtype: int64)"
      ]
     },
     "execution_count": 29,
     "metadata": {},
     "output_type": "execute_result"
    }
   ],
   "source": [
    "# PESSOAS NORMAIS E PRESSAO ALTA\n",
    "\n",
    "imc4_pa4 = df1[(df1['status_IMC'] == 'Magreza') & (df1['pressao_arterial'] == 'Hipertensao')]\n",
    "imc4_pa4.value_counts('diagnostico_cardiovascular')"
   ]
  },
  {
   "cell_type": "code",
   "execution_count": 30,
   "metadata": {
    "colab": {
     "base_uri": "https://localhost:8080/"
    },
    "executionInfo": {
     "elapsed": 25,
     "status": "ok",
     "timestamp": 1639705676570,
     "user": {
      "displayName": "Rafael Porfirio Barros",
      "photoUrl": "https://lh3.googleusercontent.com/a-/AOh14GiI5nar22Zaq0iaph8iQtgKtvIGlYrp0TtN_bFx3Q=s64",
      "userId": "16933589271769188804"
     },
     "user_tz": 180
    },
    "id": "XerMVaPcQ4Ob",
    "outputId": "78b27c3a-6463-4499-a766-7e9dad4f41c1"
   },
   "outputs": [
    {
     "data": {
      "text/plain": [
       "Series([], dtype: int64)"
      ]
     },
     "execution_count": 30,
     "metadata": {},
     "output_type": "execute_result"
    }
   ],
   "source": [
    "# PESSOAS COM OBESIDADE MORBIDA E PRESSAO ARTERIAL NORMAL \n",
    "\n",
    "imc5_pa5 = df1[(df1['status_IMC'] == 'Obesidade_Morbida') & (df1['pressao_arterial'] == 'Normal')]\n",
    "imc5_pa5.value_counts('diagnostico_cardiovascular')"
   ]
  },
  {
   "cell_type": "markdown",
   "metadata": {
    "id": "VeZFzlsTQ4Ob"
   },
   "source": [
    "- ### Podemos concluir que não necessariamente a pressão arterial influi no IMC de cada pessoa para causar problemas cardiovasculares."
   ]
  },
  {
   "cell_type": "markdown",
   "metadata": {},
   "source": [
    "### CORRELAÇÃO"
   ]
  },
  {
   "cell_type": "code",
   "execution_count": 31,
   "metadata": {},
   "outputs": [
    {
     "data": {
      "image/png": "[encoded data removed]",
      "text/plain": [
       "<Figure size 864x720 with 2 Axes>"
      ]
     },
     "metadata": {},
     "output_type": "display_data"
    }
   ],
   "source": [
    "plt.figure(figsize = (12,10))\n",
    "corr = df1.corr()\n",
    "sns.heatmap(corr, annot = True, cmap = plt.cm.Reds)\n",
    "plt.show()"
   ]
  },
  {
   "cell_type": "code",
   "execution_count": 32,
   "metadata": {},
   "outputs": [
    {
     "data": {
      "text/plain": [
       "diagnostico_cardiovascular    1.000\n",
       "idade                         0.312\n",
       "IMC                           0.300\n",
       "diastolica                    0.282\n",
       "colesterol                    0.235\n",
       "genero                        0.112\n",
       "glicose                       0.109\n",
       "sistolica                     0.061\n",
       "alcoolismo                    0.007\n",
       "tabagismo                    -0.005\n",
       "id                           -0.010\n",
       "atividade_fisica             -0.014\n",
       "Name: diagnostico_cardiovascular, dtype: float64"
      ]
     },
     "execution_count": 32,
     "metadata": {},
     "output_type": "execute_result"
    }
   ],
   "source": [
    "df_corr = df1.corr()\n",
    "df_corr['diagnostico_cardiovascular'].sort_values(ascending = False).round(3)"
   ]
  },
  {
   "cell_type": "markdown",
   "metadata": {
    "id": "bq0PztZs633Y"
   },
   "source": [
    "### Vamos analisar o diagnóstico cardiovascular com relação ao colesterol, glicose, tabagismo, alcoolismo e atividade fisica:"
   ]
  },
  {
   "cell_type": "code",
   "execution_count": 33,
   "metadata": {
    "colab": {
     "base_uri": "https://localhost:8080/",
     "height": 436
    },
    "executionInfo": {
     "elapsed": 578,
     "status": "ok",
     "timestamp": 1639705677128,
     "user": {
      "displayName": "Rafael Porfirio Barros",
      "photoUrl": "https://lh3.googleusercontent.com/a-/AOh14GiI5nar22Zaq0iaph8iQtgKtvIGlYrp0TtN_bFx3Q=s64",
      "userId": "16933589271769188804"
     },
     "user_tz": 180
    },
    "id": "Eu8cHHK07OC9",
    "outputId": "c9e80c94-a650-4659-a229-7a512d3a4a3b"
   },
   "outputs": [
    {
     "name": "stdout",
     "output_type": "stream",
     "text": [
      "diagnostico_cardiovascular  colesterol\n",
      "0                           1             2218\n",
      "                            2              340\n",
      "                            3               91\n",
      "1                           1             1159\n",
      "                            2              336\n",
      "                            3              264\n",
      "Name: colesterol, dtype: int64\n"
     ]
    },
    {
     "data": {
      "text/plain": [
       "<AxesSubplot:xlabel='diagnostico_cardiovascular', ylabel='count'>"
      ]
     },
     "execution_count": 33,
     "metadata": {},
     "output_type": "execute_result"
    },
    {
     "data": {
      "image/png": "[encoded data removed]",
      "text/plain": [
       "<Figure size 432x288 with 1 Axes>"
      ]
     },
     "metadata": {},
     "output_type": "display_data"
    }
   ],
   "source": [
    "# colesterol | 1: normal, 2: acima do normal, 3: muito acima do normal \n",
    "\n",
    "diag_colesterol = df1.groupby('diagnostico_cardiovascular')['colesterol'].value_counts()\n",
    "print(diag_colesterol)\n",
    "sns.countplot(x='diagnostico_cardiovascular', hue = 'colesterol', data = df1, palette='Accent')"
   ]
  },
  {
   "cell_type": "markdown",
   "metadata": {
    "id": "I_cCcd3_88jG"
   },
   "source": [
    "- ### Podemos concluir que o colesterol 2 - acima do normal, e 3 - muito acima do normal não influenciam tanto no diagnóstico cardiovascular."
   ]
  },
  {
   "cell_type": "code",
   "execution_count": 34,
   "metadata": {
    "colab": {
     "base_uri": "https://localhost:8080/",
     "height": 436
    },
    "executionInfo": {
     "elapsed": 507,
     "status": "ok",
     "timestamp": 1639705677629,
     "user": {
      "displayName": "Rafael Porfirio Barros",
      "photoUrl": "https://lh3.googleusercontent.com/a-/AOh14GiI5nar22Zaq0iaph8iQtgKtvIGlYrp0TtN_bFx3Q=s64",
      "userId": "16933589271769188804"
     },
     "user_tz": 180
    },
    "id": "2DQqewrK92hr",
    "outputId": "30d5d459-34f7-4bdf-d2e6-3fc8299b1796"
   },
   "outputs": [
    {
     "name": "stdout",
     "output_type": "stream",
     "text": [
      "diagnostico_cardiovascular  glicose\n",
      "0                           1          2363\n",
      "                            2           174\n",
      "                            3           112\n",
      "1                           1          1438\n",
      "                            2           171\n",
      "                            3           150\n",
      "Name: glicose, dtype: int64\n"
     ]
    },
    {
     "data": {
      "text/plain": [
       "<AxesSubplot:xlabel='diagnostico_cardiovascular', ylabel='count'>"
      ]
     },
     "execution_count": 34,
     "metadata": {},
     "output_type": "execute_result"
    },
    {
     "data": {
      "image/png": "[encoded data removed]",
      "text/plain": [
       "<Figure size 432x288 with 1 Axes>"
      ]
     },
     "metadata": {},
     "output_type": "display_data"
    }
   ],
   "source": [
    "# glicose | 1: normal, 2: acima do normal, 3: muito acima do normal \n",
    "\n",
    "diag_glicose = df1.groupby('diagnostico_cardiovascular')['glicose'].value_counts()\n",
    "print(diag_glicose)\n",
    "sns.countplot(x='diagnostico_cardiovascular', hue = 'glicose', data = df1, palette='Accent')"
   ]
  },
  {
   "cell_type": "markdown",
   "metadata": {
    "id": "2EIYWyMX-uZd"
   },
   "source": [
    "- ### Podemos concluir que a glicose 2 - acima do normal, e 3 - muito acima do normal não influenciam tanto no diagnóstico cardiovascular."
   ]
  },
  {
   "cell_type": "code",
   "execution_count": 35,
   "metadata": {
    "colab": {
     "base_uri": "https://localhost:8080/",
     "height": 402
    },
    "executionInfo": {
     "elapsed": 23,
     "status": "ok",
     "timestamp": 1639705677630,
     "user": {
      "displayName": "Rafael Porfirio Barros",
      "photoUrl": "https://lh3.googleusercontent.com/a-/AOh14GiI5nar22Zaq0iaph8iQtgKtvIGlYrp0TtN_bFx3Q=s64",
      "userId": "16933589271769188804"
     },
     "user_tz": 180
    },
    "id": "hd69l1Lp_Ey1",
    "outputId": "5ffd05f2-839a-4c37-84b8-f54e5aad8eea"
   },
   "outputs": [
    {
     "name": "stdout",
     "output_type": "stream",
     "text": [
      "diagnostico_cardiovascular  tabagismo\n",
      "0                           0            2423\n",
      "                            1             226\n",
      "1                           0            1614\n",
      "                            1             145\n",
      "Name: tabagismo, dtype: int64\n"
     ]
    },
    {
     "data": {
      "text/plain": [
       "<AxesSubplot:xlabel='diagnostico_cardiovascular', ylabel='count'>"
      ]
     },
     "execution_count": 35,
     "metadata": {},
     "output_type": "execute_result"
    },
    {
     "data": {
      "image/png": "[encoded data removed]",
      "text/plain": [
       "<Figure size 432x288 with 1 Axes>"
      ]
     },
     "metadata": {},
     "output_type": "display_data"
    }
   ],
   "source": [
    "diag_tabagismo = df1.groupby('diagnostico_cardiovascular')['tabagismo'].value_counts()\n",
    "print(diag_tabagismo)\n",
    "sns.countplot(x='diagnostico_cardiovascular', hue = 'tabagismo', data = df1, palette='Accent')"
   ]
  },
  {
   "cell_type": "markdown",
   "metadata": {
    "id": "TKuv5D58_cGD"
   },
   "source": [
    "- ### Podemos concluir que o tabagismo não influencia tanto no diagnóstico cardiovascular."
   ]
  },
  {
   "cell_type": "code",
   "execution_count": 36,
   "metadata": {
    "colab": {
     "base_uri": "https://localhost:8080/",
     "height": 402
    },
    "executionInfo": {
     "elapsed": 564,
     "status": "ok",
     "timestamp": 1639705678187,
     "user": {
      "displayName": "Rafael Porfirio Barros",
      "photoUrl": "https://lh3.googleusercontent.com/a-/AOh14GiI5nar22Zaq0iaph8iQtgKtvIGlYrp0TtN_bFx3Q=s64",
      "userId": "16933589271769188804"
     },
     "user_tz": 180
    },
    "id": "mCdiCWPY_09t",
    "outputId": "28a37f4e-8827-4904-c2ee-234d54782092"
   },
   "outputs": [
    {
     "name": "stdout",
     "output_type": "stream",
     "text": [
      "diagnostico_cardiovascular  alcoolismo\n",
      "0                           0             2509\n",
      "                            1              140\n",
      "1                           0             1660\n",
      "                            1               99\n",
      "Name: alcoolismo, dtype: int64\n"
     ]
    },
    {
     "data": {
      "text/plain": [
       "<AxesSubplot:xlabel='diagnostico_cardiovascular', ylabel='count'>"
      ]
     },
     "execution_count": 36,
     "metadata": {},
     "output_type": "execute_result"
    },
    {
     "data": {
      "image/png": "[encoded data removed]",
      "text/plain": [
       "<Figure size 432x288 with 1 Axes>"
      ]
     },
     "metadata": {},
     "output_type": "display_data"
    }
   ],
   "source": [
    "diag_alcoolismo = df1.groupby('diagnostico_cardiovascular')['alcoolismo'].value_counts()\n",
    "print(diag_alcoolismo)\n",
    "sns.countplot(x='diagnostico_cardiovascular', hue = 'alcoolismo', data = df1, palette='Accent')"
   ]
  },
  {
   "cell_type": "markdown",
   "metadata": {
    "id": "nGudNzqHALab"
   },
   "source": [
    "- ### Podemos concluir que o alcoolismo não influencia tanto no diagnóstico cardiovascular."
   ]
  },
  {
   "cell_type": "code",
   "execution_count": 37,
   "metadata": {
    "colab": {
     "base_uri": "https://localhost:8080/",
     "height": 406
    },
    "executionInfo": {
     "elapsed": 492,
     "status": "ok",
     "timestamp": 1639705678666,
     "user": {
      "displayName": "Rafael Porfirio Barros",
      "photoUrl": "https://lh3.googleusercontent.com/a-/AOh14GiI5nar22Zaq0iaph8iQtgKtvIGlYrp0TtN_bFx3Q=s64",
      "userId": "16933589271769188804"
     },
     "user_tz": 180
    },
    "id": "pXr34nImAoUC",
    "outputId": "f982ce01-7742-47f4-cfee-a17ce01776c1",
    "scrolled": true
   },
   "outputs": [
    {
     "name": "stdout",
     "output_type": "stream",
     "text": [
      "diagnostico_cardiovascular  atividade_fisica\n",
      "0                           1                   2159\n",
      "                            0                    490\n",
      "1                           1                   1414\n",
      "                            0                    345\n",
      "Name: atividade_fisica, dtype: int64\n"
     ]
    },
    {
     "data": {
      "text/plain": [
       "<AxesSubplot:xlabel='diagnostico_cardiovascular', ylabel='count'>"
      ]
     },
     "execution_count": 37,
     "metadata": {},
     "output_type": "execute_result"
    },
    {
     "data": {
      "image/png": "[encoded data removed]",
      "text/plain": [
       "<Figure size 432x288 with 1 Axes>"
      ]
     },
     "metadata": {},
     "output_type": "display_data"
    }
   ],
   "source": [
    "diag_ativ_fisica = df1.groupby('diagnostico_cardiovascular')['atividade_fisica'].value_counts()\n",
    "print(diag_ativ_fisica)\n",
    "sns.countplot(x='diagnostico_cardiovascular', hue = 'atividade_fisica', data = df1, palette='Accent')"
   ]
  },
  {
   "cell_type": "markdown",
   "metadata": {
    "id": "tHpDqErVB5OY"
   },
   "source": [
    "- ### Podemos concluir que atividade física influencia no diagnóstico cardiovascular, e não a falta."
   ]
  },
  {
   "cell_type": "markdown",
   "metadata": {},
   "source": [
    "### MODELAGEM"
   ]
  },
  {
   "cell_type": "code",
   "execution_count": 38,
   "metadata": {},
   "outputs": [
    {
     "data": {
      "text/html": [
       "<div>\n",
       "<style scoped>\n",
       "    .dataframe tbody tr th:only-of-type {\n",
       "        vertical-align: middle;\n",
       "    }\n",
       "\n",
       "    .dataframe tbody tr th {\n",
       "        vertical-align: top;\n",
       "    }\n",
       "\n",
       "    .dataframe thead th {\n",
       "        text-align: right;\n",
       "    }\n",
       "</style>\n",
       "<table border=\"1\" class=\"dataframe\">\n",
       "  <thead>\n",
       "    <tr style=\"text-align: right;\">\n",
       "      <th></th>\n",
       "      <th>id</th>\n",
       "      <th>idade</th>\n",
       "      <th>genero</th>\n",
       "      <th>sistolica</th>\n",
       "      <th>diastolica</th>\n",
       "      <th>colesterol</th>\n",
       "      <th>glicose</th>\n",
       "      <th>tabagismo</th>\n",
       "      <th>alcoolismo</th>\n",
       "      <th>atividade_fisica</th>\n",
       "      <th>diagnostico_cardiovascular</th>\n",
       "      <th>IMC</th>\n",
       "      <th>status_IMC</th>\n",
       "      <th>pressao_arterial</th>\n",
       "    </tr>\n",
       "  </thead>\n",
       "  <tbody>\n",
       "    <tr>\n",
       "      <th>4</th>\n",
       "      <td>4</td>\n",
       "      <td>48.0</td>\n",
       "      <td>1</td>\n",
       "      <td>100</td>\n",
       "      <td>60</td>\n",
       "      <td>1</td>\n",
       "      <td>1</td>\n",
       "      <td>0</td>\n",
       "      <td>0</td>\n",
       "      <td>0</td>\n",
       "      <td>0</td>\n",
       "      <td>23.011177</td>\n",
       "      <td>2</td>\n",
       "      <td>1</td>\n",
       "    </tr>\n",
       "    <tr>\n",
       "      <th>9</th>\n",
       "      <td>14</td>\n",
       "      <td>54.0</td>\n",
       "      <td>1</td>\n",
       "      <td>110</td>\n",
       "      <td>60</td>\n",
       "      <td>1</td>\n",
       "      <td>1</td>\n",
       "      <td>0</td>\n",
       "      <td>0</td>\n",
       "      <td>0</td>\n",
       "      <td>0</td>\n",
       "      <td>25.282570</td>\n",
       "      <td>3</td>\n",
       "      <td>1</td>\n",
       "    </tr>\n",
       "    <tr>\n",
       "      <th>23</th>\n",
       "      <td>33</td>\n",
       "      <td>64.0</td>\n",
       "      <td>2</td>\n",
       "      <td>110</td>\n",
       "      <td>60</td>\n",
       "      <td>1</td>\n",
       "      <td>1</td>\n",
       "      <td>0</td>\n",
       "      <td>0</td>\n",
       "      <td>1</td>\n",
       "      <td>0</td>\n",
       "      <td>18.491124</td>\n",
       "      <td>1</td>\n",
       "      <td>1</td>\n",
       "    </tr>\n",
       "    <tr>\n",
       "      <th>43</th>\n",
       "      <td>58</td>\n",
       "      <td>56.0</td>\n",
       "      <td>2</td>\n",
       "      <td>120</td>\n",
       "      <td>60</td>\n",
       "      <td>1</td>\n",
       "      <td>1</td>\n",
       "      <td>0</td>\n",
       "      <td>0</td>\n",
       "      <td>1</td>\n",
       "      <td>1</td>\n",
       "      <td>24.919900</td>\n",
       "      <td>3</td>\n",
       "      <td>1</td>\n",
       "    </tr>\n",
       "    <tr>\n",
       "      <th>50</th>\n",
       "      <td>65</td>\n",
       "      <td>50.0</td>\n",
       "      <td>1</td>\n",
       "      <td>100</td>\n",
       "      <td>60</td>\n",
       "      <td>1</td>\n",
       "      <td>1</td>\n",
       "      <td>0</td>\n",
       "      <td>0</td>\n",
       "      <td>0</td>\n",
       "      <td>0</td>\n",
       "      <td>29.296875</td>\n",
       "      <td>3</td>\n",
       "      <td>1</td>\n",
       "    </tr>\n",
       "  </tbody>\n",
       "</table>\n",
       "</div>"
      ],
      "text/plain": [
       "    id  idade  genero  sistolica  diastolica  colesterol  glicose  tabagismo  \\\n",
       "4    4   48.0       1        100          60           1        1          0   \n",
       "9   14   54.0       1        110          60           1        1          0   \n",
       "23  33   64.0       2        110          60           1        1          0   \n",
       "43  58   56.0       2        120          60           1        1          0   \n",
       "50  65   50.0       1        100          60           1        1          0   \n",
       "\n",
       "    alcoolismo  atividade_fisica  diagnostico_cardiovascular        IMC  \\\n",
       "4            0                 0                           0  23.011177   \n",
       "9            0                 0                           0  25.282570   \n",
       "23           0                 1                           0  18.491124   \n",
       "43           0                 1                           1  24.919900   \n",
       "50           0                 0                           0  29.296875   \n",
       "\n",
       "   status_IMC pressao_arterial  \n",
       "4           2                1  \n",
       "9           3                1  \n",
       "23          1                1  \n",
       "43          3                1  \n",
       "50          3                1  "
      ]
     },
     "execution_count": 38,
     "metadata": {},
     "output_type": "execute_result"
    }
   ],
   "source": [
    "df1.head()"
   ]
  },
  {
   "cell_type": "code",
   "execution_count": 39,
   "metadata": {},
   "outputs": [],
   "source": [
    "X = df1.drop(['id','diagnostico_cardiovascular'], axis = 1)\n",
    "y = df['diagnostico_cardiovascular']\n",
    "\n",
    "X_train, X_test, y_train, y_test = train_test_split(X, y, test_size = 0.3, random_state = 17)"
   ]
  },
  {
   "cell_type": "code",
   "execution_count": 40,
   "metadata": {},
   "outputs": [],
   "source": [
    "std_scaler = StandardScaler()\n",
    "X_train = std_scaler.fit_transform(X_train)\n",
    "X_test = std_scaler.fit_transform(X_test)"
   ]
  },
  {
   "cell_type": "code",
   "execution_count": 41,
   "metadata": {},
   "outputs": [
    {
     "data": {
      "text/plain": [
       "3085"
      ]
     },
     "execution_count": 41,
     "metadata": {},
     "output_type": "execute_result"
    }
   ],
   "source": [
    "len(X_train)"
   ]
  },
  {
   "cell_type": "code",
   "execution_count": 42,
   "metadata": {},
   "outputs": [
    {
     "data": {
      "text/plain": [
       "3085"
      ]
     },
     "execution_count": 42,
     "metadata": {},
     "output_type": "execute_result"
    }
   ],
   "source": [
    "len(y_train)"
   ]
  },
  {
   "cell_type": "markdown",
   "metadata": {},
   "source": [
    "### Random Forest Model Investigation"
   ]
  },
  {
   "cell_type": "code",
   "execution_count": 43,
   "metadata": {},
   "outputs": [
    {
     "data": {
      "text/plain": [
       "RandomForestClassifier()"
      ]
     },
     "execution_count": 43,
     "metadata": {},
     "output_type": "execute_result"
    }
   ],
   "source": [
    "RFC = RandomForestClassifier(n_estimators = 100)\n",
    "RFC.fit(X_train, y_train)"
   ]
  },
  {
   "cell_type": "code",
   "execution_count": 44,
   "metadata": {},
   "outputs": [],
   "source": [
    "y_pred_RFC = RFC.predict(X_test)"
   ]
  },
  {
   "cell_type": "code",
   "execution_count": 45,
   "metadata": {},
   "outputs": [
    {
     "name": "stdout",
     "output_type": "stream",
     "text": [
      "[[639 144]\n",
      " [157 383]]\n",
      "              precision    recall  f1-score   support\n",
      "\n",
      "           0       0.80      0.82      0.81       783\n",
      "           1       0.73      0.71      0.72       540\n",
      "\n",
      "    accuracy                           0.77      1323\n",
      "   macro avg       0.76      0.76      0.76      1323\n",
      "weighted avg       0.77      0.77      0.77      1323\n",
      "\n"
     ]
    }
   ],
   "source": [
    "print(confusion_matrix(y_test, y_pred_RFC))\n",
    "print(classification_report(y_test, y_pred_RFC))"
   ]
  },
  {
   "cell_type": "code",
   "execution_count": 46,
   "metadata": {},
   "outputs": [
    {
     "data": {
      "text/plain": [
       "0.7724867724867724"
      ]
     },
     "execution_count": 46,
     "metadata": {},
     "output_type": "execute_result"
    }
   ],
   "source": [
    "RFC.score(X_test, y_test)"
   ]
  },
  {
   "cell_type": "markdown",
   "metadata": {},
   "source": [
    "### K-Fold cross-validation of Random Forest Model"
   ]
  },
  {
   "cell_type": "code",
   "execution_count": 47,
   "metadata": {},
   "outputs": [
    {
     "data": {
      "text/plain": [
       "array([0.78640777, 0.76375405, 0.76699029, 0.77993528, 0.72168285,\n",
       "       0.73376623, 0.78571429, 0.78896104, 0.74675325, 0.76623377])"
      ]
     },
     "execution_count": 47,
     "metadata": {},
     "output_type": "execute_result"
    }
   ],
   "source": [
    "accuracies_RFC = cross_val_score(estimator = RFC, X = X_train, y = y_train, cv = 10)\n",
    "accuracies_RFC"
   ]
  },
  {
   "cell_type": "code",
   "execution_count": 48,
   "metadata": {},
   "outputs": [
    {
     "data": {
      "text/plain": [
       "0.7640198797965787"
      ]
     },
     "execution_count": 48,
     "metadata": {},
     "output_type": "execute_result"
    }
   ],
   "source": [
    "accuracies_RFC.mean()"
   ]
  },
  {
   "cell_type": "code",
   "execution_count": 49,
   "metadata": {},
   "outputs": [
    {
     "data": {
      "text/plain": [
       "0.022060972913602213"
      ]
     },
     "execution_count": 49,
     "metadata": {},
     "output_type": "execute_result"
    }
   ],
   "source": [
    "accuracies_RFC.std()"
   ]
  },
  {
   "cell_type": "markdown",
   "metadata": {},
   "source": [
    "### SVM Model Investigation"
   ]
  },
  {
   "cell_type": "code",
   "execution_count": 50,
   "metadata": {},
   "outputs": [
    {
     "data": {
      "text/plain": [
       "SVC(gamma='auto')"
      ]
     },
     "execution_count": 50,
     "metadata": {},
     "output_type": "execute_result"
    }
   ],
   "source": [
    "svc = SVC(gamma = 'auto')\n",
    "svc.fit(X_train, y_train)"
   ]
  },
  {
   "cell_type": "code",
   "execution_count": 51,
   "metadata": {},
   "outputs": [],
   "source": [
    "y_pred_SVC = svc.predict(X_test)"
   ]
  },
  {
   "cell_type": "code",
   "execution_count": 52,
   "metadata": {},
   "outputs": [
    {
     "name": "stdout",
     "output_type": "stream",
     "text": [
      "[[689  94]\n",
      " [181 359]]\n",
      "              precision    recall  f1-score   support\n",
      "\n",
      "           0       0.79      0.88      0.83       783\n",
      "           1       0.79      0.66      0.72       540\n",
      "\n",
      "    accuracy                           0.79      1323\n",
      "   macro avg       0.79      0.77      0.78      1323\n",
      "weighted avg       0.79      0.79      0.79      1323\n",
      "\n"
     ]
    }
   ],
   "source": [
    "print(confusion_matrix(y_test, y_pred_SVC))\n",
    "print(classification_report(y_test, y_pred_SVC))"
   ]
  },
  {
   "cell_type": "code",
   "execution_count": 53,
   "metadata": {},
   "outputs": [
    {
     "data": {
      "text/plain": [
       "0.7921390778533636"
      ]
     },
     "execution_count": 53,
     "metadata": {},
     "output_type": "execute_result"
    }
   ],
   "source": [
    "svc.score(X_test, y_test)"
   ]
  },
  {
   "cell_type": "markdown",
   "metadata": {},
   "source": [
    "### K-Fold cross-validation of SVM model"
   ]
  },
  {
   "cell_type": "code",
   "execution_count": 54,
   "metadata": {},
   "outputs": [
    {
     "data": {
      "text/plain": [
       "array([0.76699029, 0.79935275, 0.77346278, 0.81553398, 0.73139159,\n",
       "       0.77922078, 0.79220779, 0.81168831, 0.78246753, 0.78571429])"
      ]
     },
     "execution_count": 54,
     "metadata": {},
     "output_type": "execute_result"
    }
   ],
   "source": [
    "accuracies_SVC = cross_val_score(estimator = svc, X = X_train, y = y_train, cv = 10, n_jobs = 4)\n",
    "accuracies_SVC"
   ]
  },
  {
   "cell_type": "code",
   "execution_count": 55,
   "metadata": {},
   "outputs": [
    {
     "data": {
      "text/plain": [
       "0.7838030092884462"
      ]
     },
     "execution_count": 55,
     "metadata": {},
     "output_type": "execute_result"
    }
   ],
   "source": [
    "accuracies_SVC.mean()"
   ]
  },
  {
   "cell_type": "code",
   "execution_count": 56,
   "metadata": {},
   "outputs": [
    {
     "data": {
      "text/plain": [
       "0.02293437998854618"
      ]
     },
     "execution_count": 56,
     "metadata": {},
     "output_type": "execute_result"
    }
   ],
   "source": [
    "accuracies_SVC.std()"
   ]
  },
  {
   "cell_type": "markdown",
   "metadata": {},
   "source": [
    "### K-Nearest Neighbor Model Investigation"
   ]
  },
  {
   "cell_type": "code",
   "execution_count": 57,
   "metadata": {},
   "outputs": [
    {
     "data": {
      "text/plain": [
       "KNeighborsClassifier(n_neighbors=100)"
      ]
     },
     "execution_count": 57,
     "metadata": {},
     "output_type": "execute_result"
    }
   ],
   "source": [
    "knn = KNeighborsClassifier(n_neighbors = 100)\n",
    "knn.fit(X_train, y_train)"
   ]
  },
  {
   "cell_type": "code",
   "execution_count": 58,
   "metadata": {},
   "outputs": [],
   "source": [
    "y_pred_KNN = knn.predict(X_test)"
   ]
  },
  {
   "cell_type": "code",
   "execution_count": 59,
   "metadata": {},
   "outputs": [
    {
     "name": "stdout",
     "output_type": "stream",
     "text": [
      "[[709  74]\n",
      " [221 319]]\n",
      "              precision    recall  f1-score   support\n",
      "\n",
      "           0       0.76      0.91      0.83       783\n",
      "           1       0.81      0.59      0.68       540\n",
      "\n",
      "    accuracy                           0.78      1323\n",
      "   macro avg       0.79      0.75      0.76      1323\n",
      "weighted avg       0.78      0.78      0.77      1323\n",
      "\n"
     ]
    }
   ],
   "source": [
    "print(confusion_matrix(y_test, y_pred_KNN))\n",
    "print(classification_report(y_test, y_pred_KNN))"
   ]
  },
  {
   "cell_type": "code",
   "execution_count": 60,
   "metadata": {},
   "outputs": [
    {
     "data": {
      "text/plain": [
       "0.7770219198790628"
      ]
     },
     "execution_count": 60,
     "metadata": {},
     "output_type": "execute_result"
    }
   ],
   "source": [
    "knn.score(X_test, y_test)"
   ]
  },
  {
   "cell_type": "markdown",
   "metadata": {},
   "source": [
    "### K-Fold cross-validation of KNN model"
   ]
  },
  {
   "cell_type": "code",
   "execution_count": 61,
   "metadata": {},
   "outputs": [
    {
     "data": {
      "text/plain": [
       "array([0.77022654, 0.78640777, 0.77022654, 0.79935275, 0.74757282,\n",
       "       0.76948052, 0.76948052, 0.79545455, 0.76948052, 0.76623377])"
      ]
     },
     "execution_count": 61,
     "metadata": {},
     "output_type": "execute_result"
    }
   ],
   "source": [
    "accuracies_KNN = cross_val_score(estimator = knn, X = X_train, y = y_train, cv = 10)\n",
    "accuracies_KNN"
   ]
  },
  {
   "cell_type": "code",
   "execution_count": 62,
   "metadata": {},
   "outputs": [
    {
     "data": {
      "text/plain": [
       "0.7743916277896861"
      ]
     },
     "execution_count": 62,
     "metadata": {},
     "output_type": "execute_result"
    }
   ],
   "source": [
    "accuracies_KNN.mean()"
   ]
  },
  {
   "cell_type": "code",
   "execution_count": 63,
   "metadata": {},
   "outputs": [
    {
     "data": {
      "text/plain": [
       "0.014504978709529376"
      ]
     },
     "execution_count": 63,
     "metadata": {},
     "output_type": "execute_result"
    }
   ],
   "source": [
    "accuracies_KNN.std()"
   ]
  },
  {
   "cell_type": "markdown",
   "metadata": {},
   "source": [
    "### Naive Bayes Model Investigation"
   ]
  },
  {
   "cell_type": "code",
   "execution_count": 64,
   "metadata": {},
   "outputs": [
    {
     "data": {
      "text/plain": [
       "GaussianNB()"
      ]
     },
     "execution_count": 64,
     "metadata": {},
     "output_type": "execute_result"
    }
   ],
   "source": [
    "nbc = GaussianNB()\n",
    "nbc.fit(X_train, y_train)"
   ]
  },
  {
   "cell_type": "code",
   "execution_count": 65,
   "metadata": {},
   "outputs": [],
   "source": [
    "y_pred_NBC = nbc.predict(X_test)"
   ]
  },
  {
   "cell_type": "code",
   "execution_count": 66,
   "metadata": {},
   "outputs": [
    {
     "name": "stdout",
     "output_type": "stream",
     "text": [
      "[[671 112]\n",
      " [188 352]]\n",
      "              precision    recall  f1-score   support\n",
      "\n",
      "           0       0.78      0.86      0.82       783\n",
      "           1       0.76      0.65      0.70       540\n",
      "\n",
      "    accuracy                           0.77      1323\n",
      "   macro avg       0.77      0.75      0.76      1323\n",
      "weighted avg       0.77      0.77      0.77      1323\n",
      "\n"
     ]
    }
   ],
   "source": [
    "print(confusion_matrix(y_test, y_pred_NBC))\n",
    "print(classification_report(y_test, y_pred_NBC))"
   ]
  },
  {
   "cell_type": "code",
   "execution_count": 67,
   "metadata": {},
   "outputs": [
    {
     "data": {
      "text/plain": [
       "0.7732426303854876"
      ]
     },
     "execution_count": 67,
     "metadata": {},
     "output_type": "execute_result"
    }
   ],
   "source": [
    "nbc.score(X_test, y_test)"
   ]
  },
  {
   "cell_type": "markdown",
   "metadata": {},
   "source": [
    "### K-Fold cross-validation of Naive Bayes model"
   ]
  },
  {
   "cell_type": "code",
   "execution_count": 68,
   "metadata": {},
   "outputs": [
    {
     "data": {
      "text/plain": [
       "array([0.7961165 , 0.77669903, 0.74433657, 0.80906149, 0.76375405,\n",
       "       0.75324675, 0.78571429, 0.77922078, 0.75324675, 0.76948052])"
      ]
     },
     "execution_count": 68,
     "metadata": {},
     "output_type": "execute_result"
    }
   ],
   "source": [
    "accuracies_NBC = cross_val_score(estimator = nbc, X = X_train, y = y_train, cv = 10)\n",
    "accuracies_NBC"
   ]
  },
  {
   "cell_type": "code",
   "execution_count": 69,
   "metadata": {},
   "outputs": [
    {
     "data": {
      "text/plain": [
       "0.7730876728449545"
      ]
     },
     "execution_count": 69,
     "metadata": {},
     "output_type": "execute_result"
    }
   ],
   "source": [
    "accuracies_NBC.mean()"
   ]
  },
  {
   "cell_type": "code",
   "execution_count": 70,
   "metadata": {},
   "outputs": [
    {
     "data": {
      "text/plain": [
       "0.01936132497511067"
      ]
     },
     "execution_count": 70,
     "metadata": {},
     "output_type": "execute_result"
    }
   ],
   "source": [
    "accuracies_NBC.std()"
   ]
  },
  {
   "cell_type": "markdown",
   "metadata": {},
   "source": [
    "### XGBoost Model Investigation"
   ]
  },
  {
   "cell_type": "code",
   "execution_count": 71,
   "metadata": {},
   "outputs": [
    {
     "name": "stdout",
     "output_type": "stream",
     "text": [
      "[18:27:20] WARNING: C:/Users/Administrator/workspace/xgboost-win64_release_1.5.0/src/learner.cc:1115: Starting in XGBoost 1.3.0, the default evaluation metric used with the objective 'binary:logistic' was changed from 'error' to 'logloss'. Explicitly set eval_metric if you'd like to restore the old behavior.\n"
     ]
    },
    {
     "data": {
      "text/plain": [
       "XGBClassifier(base_score=0.5, booster='gbtree', colsample_bylevel=1,\n",
       "              colsample_bynode=1, colsample_bytree=1, enable_categorical=False,\n",
       "              gamma=0, gpu_id=-1, importance_type=None,\n",
       "              interaction_constraints='', learning_rate=0.02, max_delta_step=0,\n",
       "              max_depth=6, min_child_weight=1, missing=nan,\n",
       "              monotone_constraints='()', n_estimators=600, n_jobs=12,\n",
       "              num_parallel_tree=1, predictor='auto', random_state=0,\n",
       "              reg_alpha=0, reg_lambda=1, scale_pos_weight=1, subsample=1,\n",
       "              tree_method='exact', validate_parameters=1, verbosity=None)"
      ]
     },
     "execution_count": 71,
     "metadata": {},
     "output_type": "execute_result"
    }
   ],
   "source": [
    "xgb = XGBClassifier(learning_rate = 0.02, n_estimators = 600)\n",
    "xgb.fit(X_train, y_train)"
   ]
  },
  {
   "cell_type": "code",
   "execution_count": 72,
   "metadata": {},
   "outputs": [],
   "source": [
    "y_pred_XGB = xgb.predict(X_test)"
   ]
  },
  {
   "cell_type": "code",
   "execution_count": 73,
   "metadata": {},
   "outputs": [
    {
     "name": "stdout",
     "output_type": "stream",
     "text": [
      "[[624 159]\n",
      " [137 403]]\n",
      "              precision    recall  f1-score   support\n",
      "\n",
      "           0       0.82      0.80      0.81       783\n",
      "           1       0.72      0.75      0.73       540\n",
      "\n",
      "    accuracy                           0.78      1323\n",
      "   macro avg       0.77      0.77      0.77      1323\n",
      "weighted avg       0.78      0.78      0.78      1323\n",
      "\n"
     ]
    }
   ],
   "source": [
    "print(confusion_matrix(y_test, y_pred_XGB))\n",
    "print(classification_report(y_test, y_pred_XGB))"
   ]
  },
  {
   "cell_type": "code",
   "execution_count": 74,
   "metadata": {},
   "outputs": [
    {
     "data": {
      "text/plain": [
       "0.7762660619803476"
      ]
     },
     "execution_count": 74,
     "metadata": {},
     "output_type": "execute_result"
    }
   ],
   "source": [
    "xgb.score(X_test, y_test)"
   ]
  },
  {
   "cell_type": "markdown",
   "metadata": {},
   "source": [
    "### K-Fold cross-validation of XGBoost model"
   ]
  },
  {
   "cell_type": "code",
   "execution_count": 75,
   "metadata": {},
   "outputs": [
    {
     "name": "stdout",
     "output_type": "stream",
     "text": [
      "[18:27:21] WARNING: C:/Users/Administrator/workspace/xgboost-win64_release_1.5.0/src/learner.cc:1115: Starting in XGBoost 1.3.0, the default evaluation metric used with the objective 'binary:logistic' was changed from 'error' to 'logloss'. Explicitly set eval_metric if you'd like to restore the old behavior.\n",
      "[18:27:22] WARNING: C:/Users/Administrator/workspace/xgboost-win64_release_1.5.0/src/learner.cc:1115: Starting in XGBoost 1.3.0, the default evaluation metric used with the objective 'binary:logistic' was changed from 'error' to 'logloss'. Explicitly set eval_metric if you'd like to restore the old behavior.\n",
      "[18:27:23] WARNING: C:/Users/Administrator/workspace/xgboost-win64_release_1.5.0/src/learner.cc:1115: Starting in XGBoost 1.3.0, the default evaluation metric used with the objective 'binary:logistic' was changed from 'error' to 'logloss'. Explicitly set eval_metric if you'd like to restore the old behavior.\n",
      "[18:27:24] WARNING: C:/Users/Administrator/workspace/xgboost-win64_release_1.5.0/src/learner.cc:1115: Starting in XGBoost 1.3.0, the default evaluation metric used with the objective 'binary:logistic' was changed from 'error' to 'logloss'. Explicitly set eval_metric if you'd like to restore the old behavior.\n",
      "[18:27:24] WARNING: C:/Users/Administrator/workspace/xgboost-win64_release_1.5.0/src/learner.cc:1115: Starting in XGBoost 1.3.0, the default evaluation metric used with the objective 'binary:logistic' was changed from 'error' to 'logloss'. Explicitly set eval_metric if you'd like to restore the old behavior.\n",
      "[18:27:25] WARNING: C:/Users/Administrator/workspace/xgboost-win64_release_1.5.0/src/learner.cc:1115: Starting in XGBoost 1.3.0, the default evaluation metric used with the objective 'binary:logistic' was changed from 'error' to 'logloss'. Explicitly set eval_metric if you'd like to restore the old behavior.\n",
      "[18:27:26] WARNING: C:/Users/Administrator/workspace/xgboost-win64_release_1.5.0/src/learner.cc:1115: Starting in XGBoost 1.3.0, the default evaluation metric used with the objective 'binary:logistic' was changed from 'error' to 'logloss'. Explicitly set eval_metric if you'd like to restore the old behavior.\n",
      "[18:27:27] WARNING: C:/Users/Administrator/workspace/xgboost-win64_release_1.5.0/src/learner.cc:1115: Starting in XGBoost 1.3.0, the default evaluation metric used with the objective 'binary:logistic' was changed from 'error' to 'logloss'. Explicitly set eval_metric if you'd like to restore the old behavior.\n",
      "[18:27:28] WARNING: C:/Users/Administrator/workspace/xgboost-win64_release_1.5.0/src/learner.cc:1115: Starting in XGBoost 1.3.0, the default evaluation metric used with the objective 'binary:logistic' was changed from 'error' to 'logloss'. Explicitly set eval_metric if you'd like to restore the old behavior.\n",
      "[18:27:29] WARNING: C:/Users/Administrator/workspace/xgboost-win64_release_1.5.0/src/learner.cc:1115: Starting in XGBoost 1.3.0, the default evaluation metric used with the objective 'binary:logistic' was changed from 'error' to 'logloss'. Explicitly set eval_metric if you'd like to restore the old behavior.\n"
     ]
    },
    {
     "data": {
      "text/plain": [
       "array([0.79288026, 0.77022654, 0.74757282, 0.78640777, 0.76699029,\n",
       "       0.75974026, 0.76623377, 0.7987013 , 0.75324675, 0.77922078])"
      ]
     },
     "execution_count": 75,
     "metadata": {},
     "output_type": "execute_result"
    }
   ],
   "source": [
    "accuracies_XGB = cross_val_score(estimator = xgb, X = X_train, y = y_train, cv = 10)\n",
    "accuracies_XGB"
   ]
  },
  {
   "cell_type": "code",
   "execution_count": 76,
   "metadata": {},
   "outputs": [
    {
     "data": {
      "text/plain": [
       "0.7721220527045769"
      ]
     },
     "execution_count": 76,
     "metadata": {},
     "output_type": "execute_result"
    }
   ],
   "source": [
    "accuracies_XGB.mean()"
   ]
  },
  {
   "cell_type": "code",
   "execution_count": 77,
   "metadata": {},
   "outputs": [
    {
     "data": {
      "text/plain": [
       "0.016027113393615473"
      ]
     },
     "execution_count": 77,
     "metadata": {},
     "output_type": "execute_result"
    }
   ],
   "source": [
    "accuracies_XGB.std()"
   ]
  },
  {
   "cell_type": "markdown",
   "metadata": {},
   "source": [
    "### Conclusão\n",
    "\n",
    "- #### O modelo SVM teve o melhor desempenho dos cinco modelos, dando-nos uma pontuação média de precisão de 78,3%.\n",
    "- #### A validação cruzada K-Fold foi usada para garantir que nenhum overfitting fosse feito."
   ]
  },
  {
   "cell_type": "code",
   "execution_count": 78,
   "metadata": {},
   "outputs": [
    {
     "data": {
      "text/html": [
       "<div>\n",
       "<style scoped>\n",
       "    .dataframe tbody tr th:only-of-type {\n",
       "        vertical-align: middle;\n",
       "    }\n",
       "\n",
       "    .dataframe tbody tr th {\n",
       "        vertical-align: top;\n",
       "    }\n",
       "\n",
       "    .dataframe thead th {\n",
       "        text-align: right;\n",
       "    }\n",
       "</style>\n",
       "<table border=\"1\" class=\"dataframe\">\n",
       "  <thead>\n",
       "    <tr style=\"text-align: right;\">\n",
       "      <th></th>\n",
       "      <th>Média Acúracia</th>\n",
       "    </tr>\n",
       "  </thead>\n",
       "  <tbody>\n",
       "    <tr>\n",
       "      <th>SVM</th>\n",
       "      <td>0.783803</td>\n",
       "    </tr>\n",
       "    <tr>\n",
       "      <th>KNN</th>\n",
       "      <td>0.774392</td>\n",
       "    </tr>\n",
       "    <tr>\n",
       "      <th>Naive Bayes</th>\n",
       "      <td>0.773088</td>\n",
       "    </tr>\n",
       "    <tr>\n",
       "      <th>XGBoost</th>\n",
       "      <td>0.772122</td>\n",
       "    </tr>\n",
       "    <tr>\n",
       "      <th>Random Forest</th>\n",
       "      <td>0.764020</td>\n",
       "    </tr>\n",
       "  </tbody>\n",
       "</table>\n",
       "</div>"
      ],
      "text/plain": [
       "               Média Acúracia\n",
       "SVM                  0.783803\n",
       "KNN                  0.774392\n",
       "Naive Bayes          0.773088\n",
       "XGBoost              0.772122\n",
       "Random Forest        0.764020"
      ]
     },
     "execution_count": 78,
     "metadata": {},
     "output_type": "execute_result"
    }
   ],
   "source": [
    "model = ['Random Forest', 'SVM', 'KNN', 'Naive Bayes', 'XGBoost']\n",
    "scores = [accuracies_RFC.mean(), accuracies_SVC.mean(), accuracies_KNN.mean(), accuracies_NBC.mean(), accuracies_XGB.mean()]\n",
    "\n",
    "summary = pd.DataFrame(data = scores, index = model, columns = ['Média Acúracia'])\n",
    "summary.sort_values(by = 'Média Acúracia', ascending = False)"
   ]
  },
  {
   "cell_type": "code",
   "execution_count": null,
   "metadata": {},
   "outputs": [],
   "source": []
  }
 ],
 "metadata": {
  "colab": {
   "collapsed_sections": [],
   "name": "Diagnostico_Precoce_Cardiovascular.ipynb",
   "provenance": []
  },
  "kernelspec": {
   "display_name": "Python 3",
   "language": "python",
   "name": "python3"
  },
  "language_info": {
   "codemirror_mode": {
    "name": "ipython",
    "version": 3
   },
   "file_extension": ".py",
   "mimetype": "text/x-python",
   "name": "python",
   "nbconvert_exporter": "python",
   "pygments_lexer": "ipython3",
   "version": "3.8.8"
  }
 },
 "nbformat": 4,
 "nbformat_minor": 1
}
